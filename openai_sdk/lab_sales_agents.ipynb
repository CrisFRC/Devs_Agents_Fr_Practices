{
 "cells": [
  {
   "cell_type": "markdown",
   "id": "741bdb15",
   "metadata": {},
   "source": [
    "## LABORATORIO : IA - AGENTES DE VENTAS\n",
    "\n",
    "proyecto con el cual se realiza una arquitectura agentica para automatizar procesos de agentes de ventas como el envio de correos electronicos\n",
    "\n",
    "herramientas:\n",
    "* sendGrid -> para enviar correos \n",
    "* openIA SDK -> framework de desarrollo\n",
    "* gemini -> LLM\n",
    "* asycio -> programacion \"asincrona\" python"
   ]
  },
  {
   "cell_type": "code",
   "execution_count": 2,
   "id": "0d57e050",
   "metadata": {},
   "outputs": [],
   "source": [
    "#librerias\n",
    "from dotenv import load_dotenv\n",
    "from agents import Agent, Runner, trace, function_tool, OpenAIChatCompletionsModel, input_guardrail, GuardrailFunctionOutput\n",
    "#from agents.extensions.models.litellm_model import LitellmModel # necesita vertex\n",
    "from openai.types.responses import ResponseTextDeltaEvent\n",
    "from typing import Dict\n",
    "import sendgrid\n",
    "import os\n",
    "from sendgrid.helpers.mail import Mail, Email, To, Content\n",
    "import asyncio\n",
    "from openai import AsyncOpenAI\n"
   ]
  },
  {
   "cell_type": "code",
   "execution_count": 3,
   "id": "973e0ac3",
   "metadata": {},
   "outputs": [
    {
     "data": {
      "text/plain": [
       "True"
      ]
     },
     "execution_count": 3,
     "metadata": {},
     "output_type": "execute_result"
    }
   ],
   "source": [
    "#cargar keys\n",
    "load_dotenv(override=True)"
   ]
  },
  {
   "cell_type": "markdown",
   "id": "a0bd8ee4",
   "metadata": {},
   "source": [
    "##### Instrucciones del sistema\n",
    "\n",
    "Para openIa SDK las instrucciones del sistema corresponden a los conocidos system prompts, los cuales tienen como objetivo \"configurar\" o adecuar el modelo LLM con un \"estado\" inicial "
   ]
  },
  {
   "cell_type": "code",
   "execution_count": 19,
   "id": "297adc5c",
   "metadata": {},
   "outputs": [],
   "source": [
    "#prompt del sistema\n",
    "instructions1 = \"Eres un agente de ventas que trabaja para Fivok Cloud Soluctions, \\\n",
    "    una empresa que ofrece servicios de arquitectura en la nuve, data BI y consultoria de software\\\n",
    "    impulsada por IA. Redactas correos electrónicos en frío profesionales y serios. Responde solo con la estructura del correo\"\n",
    "\n",
    "instructions2 = \"Eres un agente de ventas con sentido del humor y atractivo \\\n",
    "    que trabaja para Fivok Cloud Soluctions, una empresa que ofrece servicios de arquitectura en la nuve, data BI\\\n",
    "    y consultoria de software, impulsada por IA. \\\n",
    "    Redactas correos electrónicos en frío ingeniosos y atractivos que probablemente obtengan respuesta. Responde solo con la estructura del correo\"\n",
    "\n",
    "instructions3 = \"Eres un agente de ventas muy activo que trabaja para Fivok Cloud Soluctions, \\\n",
    "    una empresa que ofrece servicios de arquitectura en la nuve, data BI y consultoria de software\\\n",
    "    impulsada por IA. Redactas correos electrónicos en frío concisos y directos. Responde solo con la estructura del correo\""
   ]
  },
  {
   "cell_type": "code",
   "execution_count": 4,
   "id": "b471fe59",
   "metadata": {},
   "outputs": [],
   "source": [
    "#configuracion de agentes usuando Gemini\n",
    "# ---- Gemini api key y url base\n",
    "gemini_api_key = os.getenv('GEMINI_API_KEY')\n",
    "GEMINI_BASE_URL = \"https://generativelanguage.googleapis.com/v1beta/openai/\"\n",
    "\n",
    "# ---- Gemini modelos\n",
    "gemini_model_flash_20 = \"gemini-2.0-flash\"\n",
    "gemini_model_flash_25 = \"gemini-2.5-flash\"\n",
    "\n",
    "# ---- lite objecto para uso de modelos non_openIA\n",
    "# ----- para opnenIA[litellmModel] y Gemini se necesita vertex\n",
    "#lite_llm_model_20 = LitellmModel(model=gemini_model_flash_20, api_key=gemini_api_key)\n",
    "#lite_llm_model_25 = LitellmModel(model=gemini_model_flash_25, api_key=gemini_api_key)\n",
    "gemini_client = AsyncOpenAI(base_url=GEMINI_BASE_URL, api_key=gemini_api_key)\n",
    "gemini_model_agent1 = OpenAIChatCompletionsModel(model=gemini_model_flash_20, openai_client=gemini_client)\n",
    "gemini_model_agent2 = OpenAIChatCompletionsModel(model=gemini_model_flash_25, openai_client=gemini_client)"
   ]
  },
  {
   "cell_type": "code",
   "execution_count": 21,
   "id": "144d43c9",
   "metadata": {},
   "outputs": [],
   "source": [
    "\n",
    "\n",
    "# ---- Agentes de ventas\n",
    "sales_agent1 = Agent(\n",
    "    name = \"Agente de ventas profesional\",\n",
    "    instructions = instructions1,\n",
    "    model = gemini_model_agent1\n",
    ")\n",
    "\n",
    "sales_agent2 = Agent(\n",
    "    name = \"Agente de ventas atractivo\",\n",
    "    instructions = instructions2,\n",
    "    model = gemini_model_agent2\n",
    ")"
   ]
  },
  {
   "cell_type": "code",
   "execution_count": null,
   "id": "3f4de871",
   "metadata": {},
   "outputs": [],
   "source": [
    "# obtener corrutina en tipo stremead\n",
    "result = Runner.run_streamed(sales_agent1, input=\"Escribe un correo electrónico de ventas en frío\")\n",
    "async for event in result.stream_events():\n",
    "    if event.type == \"raw_response_event\" and isinstance(event.data, ResponseTextDeltaEvent):\n",
    "        print(event.data.delta, end=\"\", flush=True)"
   ]
  },
  {
   "cell_type": "code",
   "execution_count": 27,
   "id": "e4b8727d",
   "metadata": {},
   "outputs": [],
   "source": [
    "message = \"Escribe un correo electrónico de ventas en frío\"\n",
    "\n",
    "# dos correos de forma asincrona: dos tareas diferentes al mismo tiempo\n",
    "with trace(\"Correos electrónicos fríos en paralelo\"):\n",
    "    results = await asyncio.gather(\n",
    "        Runner.run(sales_agent1, message),\n",
    "        Runner.run(sales_agent2, message),\n",
    "    )\n",
    "\n",
    "outputs = [result.final_output for result in results]\n",
    "\n",
    "\n"
   ]
  },
  {
   "cell_type": "code",
   "execution_count": 28,
   "id": "c056bdb1",
   "metadata": {},
   "outputs": [
    {
     "name": "stdout",
     "output_type": "stream",
     "text": [
      "Respuesta Agente 1:\n",
      "**Asunto:** [Asunto breve y llamativo que resalte un beneficio clave o un problema que resuelves]\n",
      "\n",
      "**Saludo:**\n",
      "\n",
      "**Introducción:**\n",
      "\n",
      "*   Presentación breve de Fivok Cloud Solutions.\n",
      "*   Mencionar cómo encontraste a la empresa del destinatario (ej: investigación, referencia mutua, etc.).\n",
      "*   Frase personalizada que demuestre que has investigado a la empresa y entiendes sus desafíos/oportunidades.\n",
      "\n",
      "**Problema/Oportunidad:**\n",
      "\n",
      "*   Identificar un problema común que enfrentan empresas como la del destinatario (relacionado con la nube, datos, software, etc.).\n",
      "*   Presentar una oportunidad que podrían aprovechar si mejoran su infraestructura, análisis de datos o software.\n",
      "*   (Opcional) Mencionar brevemente cómo este problema/oportunidad impacta sus resultados.\n",
      "\n",
      "**Solución de Fivok Cloud Solutions:**\n",
      "\n",
      "*   Describir brevemente cómo los servicios de Fivok Cloud Solutions (arquitectura en la nube, data BI, consultoría de software impulsada por IA) pueden abordar el problema/aprovechar la oportunidad.\n",
      "*   Resaltar un beneficio específico y tangible que ofreces (ej: reducción de costos, aumento de la eficiencia, mejor toma de decisiones).\n",
      "*   Mencionar brevemente la experiencia y el éxito de Fivok Cloud Solutions en proyectos similares.\n",
      "\n",
      "**Llamada a la Acción:**\n",
      "\n",
      "*   Proponer una breve conversación para explorar cómo Fivok Cloud Solutions puede ayudarles específicamente.\n",
      "*   Ofrecer opciones de contacto (ej: agendar una llamada, enviar información adicional, etc.).\n",
      "*   Facilitar el siguiente paso para el destinatario.\n",
      "\n",
      "**Cierre:**\n",
      "\n",
      "*   Agradecer el tiempo del destinatario.\n",
      "*   Reafirmar tu interés en colaborar.\n",
      "*   Firma profesional con tu nombre, cargo e información de contacto.\n",
      "\n",
      "\n",
      "==================================================\n",
      "\n",
      "Respuesta Agente 2:\n",
      "Aquí tienes la estructura del correo electrónico, diseñada para ser ingeniosa, atractiva y con un toque de humor:\n",
      "\n",
      "---\n",
      "\n",
      "**Asunto:** ¿Tu Nube Necesita un \"Glow-Up\" con IA? 😉\n",
      "\n",
      "**Cuerpo del Correo:**\n",
      "\n",
      "Hola [Nombre del Contacto],\n",
      "\n",
      "Espero que este email te encuentre tan brillante como tu próxima idea de negocio (y no enterrado bajo una montaña de tareas).\n",
      "\n",
      "Me acerco desde Fivok Cloud Solutions, y no, no somos *otro* proveedor de servicios tech. Piensa en nosotros como los \"entrenadores personales\" para la tecnología de tu empresa. Entendemos que manejar la arquitectura en la nube, dar sentido a tu mar de datos y optimizar el desarrollo de software puede sentirse a veces como una maratón... ¡con los ojos vendados!\n",
      "\n",
      "Aquí es donde entramos nosotros, con una pizca de encanto y una gran dosis de IA. Nos especializamos en arquitectura en la nube inteligente, análisis de datos BI que realmente hablan (¡y no balbucean!), y consultoría de software que te hará preguntarte por qué no nos conociste antes. Todo impulsado por una IA tan astuta, que hasta podría escribir este correo mejor que yo (¡pero no tiene mi sentido del humor!).\n",
      "\n",
      "Nuestra misión es transformar esos desafíos complejos en oportunidades brillantes, haciendo que tu negocio no solo funcione, sino que *brille*. Queremos que tu tecnología trabaje *para ti*, no *contra ti*.\n",
      "\n",
      "¿Te apetece una conversación rápida, de unos 15 minutos, para ver si podemos añadir un poco de magia impulsada por IA a tus operaciones? Prometo que será más entretenido que la mayoría de tus reuniones (y mucho más útil).\n",
      "\n",
      "Hazme saber si te parece bien algún momento la próxima semana.\n",
      "\n",
      "Saludos cordiales (y con la esperanza de ser tu solución),\n",
      "\n",
      "[Tu Nombre]\n",
      "[Tu Título]\n",
      "Fivok Cloud Solutions\n",
      "*Tu Futuro en la Nube, Potenciado por IA (y un toque de genialidad)*\n",
      "[Tu Número de Contacto]\n",
      "[Tu Enlace de LinkedIn (Opcional)]\n",
      "[Sitio Web de Fivok]\n",
      "\n",
      "---\n",
      "\n",
      "==================================================\n",
      "\n",
      "Total de respuestas: 2\n",
      "Agente 1: Agente de ventas profesional\n",
      "Agente 2: Agente de ventas atractivo\n"
     ]
    }
   ],
   "source": [
    "\n",
    "# Imprimir cada respuesta indexada para identificar cuál corresponde a cada agente\n",
    "for i, output in enumerate(outputs, 1):\n",
    "    print(f\"Respuesta Agente {i}:\")\n",
    "    print(output)\n",
    "    print(\"\\n\" + \"=\"*50 + \"\\n\")\n",
    "\n",
    "# También mostrar información adicional\n",
    "print(f\"Total de respuestas: {len(outputs)}\")\n",
    "print(f\"Agente 1: {sales_agent1.name}\")\n",
    "print(f\"Agente 2: {sales_agent2.name}\")"
   ]
  },
  {
   "cell_type": "code",
   "execution_count": 30,
   "id": "0089b19c",
   "metadata": {},
   "outputs": [],
   "source": [
    "#agente selector de correos\n",
    "sales_picker = Agent(\n",
    "    name=\"sales_picker\",\n",
    "    instructions=\"Elige el mejor correo electrónico de ventas en frío entre las opciones disponibles. \\\n",
    "        Imagina que eres un cliente y elige el que probablemente te responda. \\\n",
    "        No des explicaciones; responde solo con el correo electrónico seleccionado.\",\n",
    "    model = gemini_model_agent2\n",
    ")"
   ]
  },
  {
   "cell_type": "code",
   "execution_count": 35,
   "id": "68e6260a",
   "metadata": {},
   "outputs": [
    {
     "name": "stdout",
     "output_type": "stream",
     "text": [
      "El mejor email de ventas:\n",
      "**Asunto:** ¿Tu nube te está pesando o elevando? ☁️\n",
      "\n",
      "Hola [Nombre del Contacto],\n",
      "\n",
      "Sé que tu bandeja de entrada es como un universo paralelo de mensajes, así que seré tu estrella fugaz: directo al punto y, espero, dejando una buena impresión. Mi nombre es [Tu Nombre] y, aunque no soy un genio con la lámpara, tengo algo mejor: Fivok Cloud Soluctions.\n",
      "\n",
      "Aquí en Fivok, nos hemos dado cuenta de que muchas empresas están 'en la nube', pero pocas están realmente 'en el cielo' de la eficiencia y la innovación. ¿Te suena? Gestionar una arquitectura compleja, descifrar tus datos o lanzar software que realmente funcione... puede ser un verdadero rompecabezas.\n",
      "\n",
      "Nosotros somos los maestros de ese rompecabezas. Con nuestra magia de arquitectura en la nube, inteligencia de datos (BI) para sacar el máximo jugo a tu información, y consultoría de software, todo impulsado por IA, transformamos tus desafíos digitales en tus mayores ventajas competitivas.\n",
      "\n",
      "Imagina: tu infraestructura tan fluida como la seda, tus datos dándote respuestas claras antes de que las preguntes, y tus proyectos de software ejecutándose sin dramas. Menos dolores de cabeza, más resultados espectaculares.\n",
      "\n",
      "Entiendo que tu tiempo es oro (y el mío también, créeme). Pero si la idea de que tu tecnología trabaje *para ti* (y no al revés) te intriga, ¿te gustaría que charláramos unos 15 minutos? Podríamos explorar cómo Fivok puede ser la pieza que le falta a tu rompecabezas digital.\n",
      "\n",
      "Si no es el momento perfecto, ¡no pasa nada! Siempre puedes guardar este email como un recordatorio de que existe la posibilidad de un futuro digital más emocionante (y con menos drama).\n",
      "\n",
      "Con un toque de ingenio (y mucha tecnología),\n",
      "\n",
      "[Tu Nombre]\n",
      "Especialista en Soluciones Fivok\n",
      "Fivok Cloud Soluctions\n",
      "[Tu Teléfono] | [Tu Email]\n",
      "[Tu LinkedIn (opcional)] | [www.fivok.com]\n"
     ]
    }
   ],
   "source": [
    "message = \"Escribe un correo electrónico de ventas en frío\"\n",
    "\n",
    "with trace(\"Selección del equipo de ventas\"):\n",
    "    results = await asyncio.gather(\n",
    "        Runner.run(sales_agent1, message),\n",
    "        Runner.run(sales_agent2, message),\n",
    "    )\n",
    "    outputs = [result.final_output for result in results]\n",
    "\n",
    "    emails = \"Emails de ventas en frío:\\n\\n\".join(outputs)\n",
    "\n",
    "    best = await Runner.run(sales_picker, emails)\n",
    "\n",
    "    print(f\"El mejor email de ventas:\\n{best.final_output}\")"
   ]
  },
  {
   "cell_type": "markdown",
   "id": "5567a2ef",
   "metadata": {},
   "source": [
    "## Adicionando Herramientas\n",
    "\n",
    "para que una funcion se comporte o se pueda traducir como una herramienta para el modelo, se debe colocar la anotacion `@function_tool`\n"
   ]
  },
  {
   "cell_type": "code",
   "execution_count": 44,
   "id": "0195689a",
   "metadata": {},
   "outputs": [],
   "source": [
    "@function_tool #decorador o anotacion que construye el json con la estructura de una tool\n",
    "def send_email(body: str):\n",
    "    \"\"\" Envía un correo electrónico con el cuerpo indicado a todos los clientes potenciales de ventas. \"\"\"\n",
    "    sg = sendgrid.SendGridAPIClient(api_key=os.environ.get('SENDGRID_API_KEY'))\n",
    "    from_email = Email(\"ing.cristian.roac@gmail.com\")  # Cambiar a tu remitente verificado\n",
    "    to_email = To(\"ing.cristian.roac@gmail.com\")  # Cambiar a sureceptor\n",
    "    content = Content(\"text/plain\", body)\n",
    "    mail = Mail(from_email, to_email, \"Email de ventas\", content).get()\n",
    "    response = sg.client.mail.send.post(request_body=mail)\n",
    "    return {\"status\": \"success\"}"
   ]
  },
  {
   "cell_type": "code",
   "execution_count": 37,
   "id": "1475af62",
   "metadata": {},
   "outputs": [
    {
     "data": {
      "text/plain": [
       "FunctionTool(name='send_email', description='Envía un correo electrónico con el cuerpo indicado a todos los clientes potenciales de ventas.', params_json_schema={'properties': {'body': {'title': 'Body', 'type': 'string'}}, 'required': ['body'], 'title': 'send_email_args', 'type': 'object', 'additionalProperties': False}, on_invoke_tool=<function function_tool.<locals>._create_function_tool.<locals>._on_invoke_tool at 0x0000014ADD0676A0>, strict_json_schema=True, is_enabled=True)"
      ]
     },
     "execution_count": 37,
     "metadata": {},
     "output_type": "execute_result"
    }
   ],
   "source": [
    "send_email"
   ]
  },
  {
   "cell_type": "markdown",
   "id": "c836660c",
   "metadata": {},
   "source": [
    "## Agentes como herramientas\n",
    "Tambien podemos convertir un objeto Agent() en una tool para que otro llm decida si debe usarse en un flujo"
   ]
  },
  {
   "cell_type": "code",
   "execution_count": 41,
   "id": "b9d65e43",
   "metadata": {},
   "outputs": [],
   "source": [
    "description = \"Escribe un email de ventas en frío\"\n",
    "\n",
    "tool1 = sales_agent1.as_tool(tool_name=\"sales_agent1\", tool_description=description)\n",
    "tool2 = sales_agent2.as_tool(tool_name=\"sales_agent1\", tool_description=description)"
   ]
  },
  {
   "cell_type": "code",
   "execution_count": 46,
   "id": "2d05adc4",
   "metadata": {},
   "outputs": [],
   "source": [
    "# definicion de todas las herramientas\n",
    "tools = [tool1, tool2, send_email]"
   ]
  },
  {
   "cell_type": "markdown",
   "id": "2022eafb",
   "metadata": {},
   "source": [
    "### Coordinador de flujo\n",
    "\n",
    "Ahora se crea un gerente de ventas que \"decide\" que herramienta o agente invocar"
   ]
  },
  {
   "cell_type": "code",
   "execution_count": 47,
   "id": "a7abba9b",
   "metadata": {},
   "outputs": [],
   "source": [
    "instructions =\"Eres gerente de ventas y trabajas para ComplAI. \\\n",
    "Utilizas las herramientas que te proporcionamos para generar correos electrónicos de ventas en frío. \\\n",
    "Nunca generas correos electrónicos de ventas tú mismo; siempre usas las herramientas. \\\n",
    "Pruebas las tres herramientas de sales_agent una vez antes de elegir la mejor. \\\n",
    "Eliges el mejor correo electrónico y usas la herramienta send_email para enviar el mejor correo electrónico (y solo el mejor) al usuario.\"\n",
    "\n",
    "\n",
    "sales_manager = Agent(name=\"Manager de ventas\", instructions=instructions, tools=tools, model=gemini_model_agent1)\n",
    "\n",
    "message = \"Envía un correo electrónico de ventas frío dirigido a 'Estimado director ejecutivo'\"\n",
    "\n",
    "with trace(\"Manager de ventas\"):\n",
    "    result = await Runner.run(sales_manager, message)"
   ]
  },
  {
   "cell_type": "markdown",
   "id": "9dfdb482",
   "metadata": {},
   "source": [
    "### Hand-Off : Transferencia o delegación de Trabajo\n",
    "Agregamos ahora el concepto de `Hands-off` con el cual se le da la facilidad a un modelo llm  que utilice el conocimiento de otro modelo llm con esto el flujo de trabajo de la solución dejaría de ser un `workflow` en donde un agente usa herramientas a un flujo `agentic` donde hay una conversacion entre varios agentes (según Antrophic)"
   ]
  },
  {
   "cell_type": "code",
   "execution_count": 5,
   "id": "8448ec93",
   "metadata": {},
   "outputs": [],
   "source": [
    "subject_instructions = \"Puedes escribir un asunto para un correo electrónico de ventas en frío. \\\n",
    "    Se te proporciona un mensaje y necesitas escribir un asunto para un correo electrónico que probablemente obtenga respuesta.\"\n",
    "\n",
    "html_instructions = \"Puedes convertir un cuerpo de correo electrónico de texto a un cuerpo de correo electrónico HTML. \\\n",
    "    Se te proporciona un cuerpo de correo electrónico de texto que puede tener algún markdown \\\n",
    "    y necesitas convertirlo a un cuerpo de correo electrónico HTML con un diseño simple, claro y atractivo.\"\n",
    "\n",
    "subject_writer = Agent(name=\"Escritor de asunto de correo electrónico\", instructions=subject_instructions, model=gemini_model_agent1)\n",
    "subject_tool = subject_writer.as_tool(tool_name=\"subject_writer\", \n",
    "                                      tool_description=\"Escribe un asunto para un correo electrónico de ventas en frío\")\n",
    "\n",
    "#herramientas para mejorar el correo                                      \n",
    "html_converter = Agent(name=\"Conversor de cuerpo de correo electrónico HTML\", instructions=html_instructions, model=gemini_model_agent1)\n",
    "html_tool = html_converter.as_tool(tool_name=\"html_converter\",\n",
    "                                   tool_description=\"Convierte un cuerpo de correo electrónico de texto a un cuerpo de correo electrónico HTML\")"
   ]
  }
 ],
 "metadata": {
  "kernelspec": {
   "display_name": ".venv",
   "language": "python",
   "name": "python3"
  },
  "language_info": {
   "codemirror_mode": {
    "name": "ipython",
    "version": 3
   },
   "file_extension": ".py",
   "mimetype": "text/x-python",
   "name": "python",
   "nbconvert_exporter": "python",
   "pygments_lexer": "ipython3",
   "version": "3.12.6"
  }
 },
 "nbformat": 4,
 "nbformat_minor": 5
}
