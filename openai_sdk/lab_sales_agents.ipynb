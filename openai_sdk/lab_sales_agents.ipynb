{
 "cells": [
  {
   "cell_type": "markdown",
   "id": "741bdb15",
   "metadata": {},
   "source": [
    "## LABORATORIO : IA - AGENTES DE VENTAS\n",
    "\n",
    "proyecto con el cual se realiza una arquitectura agentica para automatizar procesos de agentes de ventas como el envio de correos electronicos\n",
    "\n",
    "herramientas:\n",
    "* sendGrid -> para enviar correos \n",
    "* openIA SDK -> framework de desarrollo\n",
    "* gemini -> LLM\n",
    "* asycio -> programacion \"asincrona\" python"
   ]
  },
  {
   "cell_type": "code",
   "execution_count": 41,
   "id": "0d57e050",
   "metadata": {},
   "outputs": [],
   "source": [
    "#librerias\n",
    "from dotenv import load_dotenv\n",
    "from agents import Agent, Runner, trace, function_tool, OpenAIChatCompletionsModel, input_guardrail, GuardrailFunctionOutput\n",
    "#from agents.extensions.models.litellm_model import LitellmModel # necesita vertex\n",
    "from openai.types.responses import ResponseTextDeltaEvent\n",
    "from typing import Dict\n",
    "import sendgrid\n",
    "import os\n",
    "from sendgrid.helpers.mail import Mail, Email, To, Content\n",
    "import asyncio\n",
    "from openai import AsyncOpenAI\n",
    "from pydantic import BaseModel\n"
   ]
  },
  {
   "cell_type": "code",
   "execution_count": 3,
   "id": "973e0ac3",
   "metadata": {},
   "outputs": [
    {
     "data": {
      "text/plain": [
       "True"
      ]
     },
     "execution_count": 3,
     "metadata": {},
     "output_type": "execute_result"
    }
   ],
   "source": [
    "#cargar keys\n",
    "load_dotenv(override=True)"
   ]
  },
  {
   "cell_type": "markdown",
   "id": "a0bd8ee4",
   "metadata": {},
   "source": [
    "##### Instrucciones del sistema\n",
    "\n",
    "Para openIa SDK las instrucciones del sistema corresponden a los conocidos system prompts, los cuales tienen como objetivo \"configurar\" o adecuar el modelo LLM con un \"estado\" inicial "
   ]
  },
  {
   "cell_type": "code",
   "execution_count": 15,
   "id": "297adc5c",
   "metadata": {},
   "outputs": [],
   "source": [
    "#prompt del sistema\n",
    "instructions1 = \"Eres un agente de ventas que trabaja para Fivok Cloud Soluctions, \\\n",
    "    una empresa que ofrece servicios de arquitectura en la nuve, data BI y consultoria de software\\\n",
    "    impulsada por IA. Redactas correos electrónicos en frío profesionales y serios. Responde solo con la estructura del correo\"\n",
    "\n",
    "instructions2 = \"Eres un agente de ventas con sentido del humor y atractivo \\\n",
    "    que trabaja para Fivok Cloud Soluctions, una empresa que ofrece servicios de arquitectura en la nuve, data BI\\\n",
    "    y consultoria de software, impulsada por IA. \\\n",
    "    Redactas correos electrónicos en frío ingeniosos y atractivos que probablemente obtengan respuesta. Responde solo con la estructura del correo\"\n",
    "\n",
    "instructions3 = \"Eres un agente de ventas muy activo que trabaja para Fivok Cloud Soluctions, \\\n",
    "    una empresa que ofrece servicios de arquitectura en la nuve, data BI y consultoria de software\\\n",
    "    impulsada por IA. Redactas correos electrónicos en frío concisos y directos. Responde solo con la estructura del correo\""
   ]
  },
  {
   "cell_type": "code",
   "execution_count": 4,
   "id": "b471fe59",
   "metadata": {},
   "outputs": [],
   "source": [
    "#configuracion de agentes usuando Gemini\n",
    "# ---- Gemini api key y url base\n",
    "gemini_api_key = os.getenv('GEMINI_API_KEY')\n",
    "GEMINI_BASE_URL = \"https://generativelanguage.googleapis.com/v1beta/openai/\"\n",
    "\n",
    "# ---- Gemini modelos\n",
    "gemini_model_flash_20 = \"gemini-2.0-flash\"\n",
    "gemini_model_flash_25 = \"gemini-2.5-flash\"\n",
    "\n",
    "# ---- lite objecto para uso de modelos non_openIA\n",
    "# ----- para opnenIA[litellmModel] y Gemini se necesita vertex\n",
    "#lite_llm_model_20 = LitellmModel(model=gemini_model_flash_20, api_key=gemini_api_key)\n",
    "#lite_llm_model_25 = LitellmModel(model=gemini_model_flash_25, api_key=gemini_api_key)\n",
    "gemini_client = AsyncOpenAI(base_url=GEMINI_BASE_URL, api_key=gemini_api_key)\n",
    "gemini_model_agent1 = OpenAIChatCompletionsModel(model=gemini_model_flash_20, openai_client=gemini_client)\n",
    "gemini_model_agent2 = OpenAIChatCompletionsModel(model=gemini_model_flash_25, openai_client=gemini_client)"
   ]
  },
  {
   "cell_type": "code",
   "execution_count": 16,
   "id": "144d43c9",
   "metadata": {},
   "outputs": [],
   "source": [
    "\n",
    "\n",
    "# ---- Agentes de ventas\n",
    "sales_agent1 = Agent(\n",
    "    name = \"Agente de ventas profesional\",\n",
    "    instructions = instructions1,\n",
    "    model = gemini_model_agent1\n",
    ")\n",
    "\n",
    "sales_agent2 = Agent(\n",
    "    name = \"Agente de ventas atractivo\",\n",
    "    instructions = instructions2,\n",
    "    model = gemini_model_agent2\n",
    ")"
   ]
  },
  {
   "cell_type": "code",
   "execution_count": 27,
   "id": "3f4de871",
   "metadata": {},
   "outputs": [
    {
     "name": "stdout",
     "output_type": "stream",
     "text": [
      "Asunto: Impulsa tu negocio con soluciones en la nube y IA de Fivok Cloud Solutions\n",
      "\n",
      "Estimado/a [Nombre del contacto],\n",
      "\n",
      "Espero que este correo le encuentre bien.\n",
      "\n",
      "Mi nombre es [Tu nombre] y soy [Tu cargo] en Fivok Cloud Solutions. Nos especializamos en ayudar a empresas como la suya a optimizar sus operaciones y alcanzar sus objetivos de negocio mediante soluciones innovadoras en la nube, análisis de datos (BI) y consultoría de software impulsada por IA.\n",
      "\n",
      "[Menciona un punto específico sobre la empresa del contacto, demostrando que has investigado. Por ejemplo: \"He notado que [Nombre de la empresa] está expandiendo su presencia en [Mercado/Región]\". O: \"He leído con interés su reciente iniciativa en [Área específica]\".]\n",
      "\n",
      "En Fivok Cloud Solutions, ofrecemos:\n",
      "\n",
      "*   **Arquitectura en la Nube:** Diseñamos e implementamos soluciones en la nube escalables, seguras y rentables, adaptadas a sus necesidades específicas.\n",
      "*   **Data BI:** Transformamos sus datos en información valiosa que impulsa la toma de decisiones estratégicas y mejora el rendimiento de su negocio.\n",
      "*   **Consultoría de Software Impulsada por IA:** Aplicamos la inteligencia artificial para optimizar sus procesos de software, automatizar tareas y crear soluciones innovadoras.\n",
      "\n",
      "Nos gustaría entender mejor sus desafíos y objetivos actuales. ¿Estaría dispuesto/a a tener una breve conversación de 15 minutos la próxima semana para explorar cómo Fivok Cloud Solutions puede ayudarle a impulsar su negocio?\n",
      "\n",
      "Por favor, hágame saber qué día y hora le vendría mejor.\n",
      "\n",
      "Gracias por su tiempo y consideración.\n",
      "\n",
      "Atentamente,\n",
      "\n",
      "[Tu nombre]\n",
      "\n",
      "[Tu cargo]\n",
      "\n",
      "Fivok Cloud Solutions\n",
      "\n",
      "[Tu número de teléfono]\n",
      "\n",
      "[Tu correo electrónico]\n",
      "\n",
      "[Enlace al sitio web de Fivok Cloud Solutions]"
     ]
    }
   ],
   "source": [
    "# obtener corrutina en tipo stremead\n",
    "result = Runner.run_streamed(sales_agent1, input=\"Escribe un correo electrónico de ventas en frío\")\n",
    "async for event in result.stream_events():\n",
    "    if event.type == \"raw_response_event\" and isinstance(event.data, ResponseTextDeltaEvent):\n",
    "        print(event.data.delta, end=\"\", flush=True)"
   ]
  },
  {
   "cell_type": "code",
   "execution_count": 27,
   "id": "e4b8727d",
   "metadata": {},
   "outputs": [],
   "source": [
    "message = \"Escribe un correo electrónico de ventas en frío\"\n",
    "\n",
    "# dos correos de forma asincrona: dos tareas diferentes al mismo tiempo\n",
    "with trace(\"Correos electrónicos fríos en paralelo\"):\n",
    "    results = await asyncio.gather(\n",
    "        Runner.run(sales_agent1, message),\n",
    "        Runner.run(sales_agent2, message),\n",
    "    )\n",
    "\n",
    "outputs = [result.final_output for result in results]\n",
    "\n",
    "\n"
   ]
  },
  {
   "cell_type": "code",
   "execution_count": 28,
   "id": "c056bdb1",
   "metadata": {},
   "outputs": [
    {
     "name": "stdout",
     "output_type": "stream",
     "text": [
      "Respuesta Agente 1:\n",
      "**Asunto:** [Asunto breve y llamativo que resalte un beneficio clave o un problema que resuelves]\n",
      "\n",
      "**Saludo:**\n",
      "\n",
      "**Introducción:**\n",
      "\n",
      "*   Presentación breve de Fivok Cloud Solutions.\n",
      "*   Mencionar cómo encontraste a la empresa del destinatario (ej: investigación, referencia mutua, etc.).\n",
      "*   Frase personalizada que demuestre que has investigado a la empresa y entiendes sus desafíos/oportunidades.\n",
      "\n",
      "**Problema/Oportunidad:**\n",
      "\n",
      "*   Identificar un problema común que enfrentan empresas como la del destinatario (relacionado con la nube, datos, software, etc.).\n",
      "*   Presentar una oportunidad que podrían aprovechar si mejoran su infraestructura, análisis de datos o software.\n",
      "*   (Opcional) Mencionar brevemente cómo este problema/oportunidad impacta sus resultados.\n",
      "\n",
      "**Solución de Fivok Cloud Solutions:**\n",
      "\n",
      "*   Describir brevemente cómo los servicios de Fivok Cloud Solutions (arquitectura en la nube, data BI, consultoría de software impulsada por IA) pueden abordar el problema/aprovechar la oportunidad.\n",
      "*   Resaltar un beneficio específico y tangible que ofreces (ej: reducción de costos, aumento de la eficiencia, mejor toma de decisiones).\n",
      "*   Mencionar brevemente la experiencia y el éxito de Fivok Cloud Solutions en proyectos similares.\n",
      "\n",
      "**Llamada a la Acción:**\n",
      "\n",
      "*   Proponer una breve conversación para explorar cómo Fivok Cloud Solutions puede ayudarles específicamente.\n",
      "*   Ofrecer opciones de contacto (ej: agendar una llamada, enviar información adicional, etc.).\n",
      "*   Facilitar el siguiente paso para el destinatario.\n",
      "\n",
      "**Cierre:**\n",
      "\n",
      "*   Agradecer el tiempo del destinatario.\n",
      "*   Reafirmar tu interés en colaborar.\n",
      "*   Firma profesional con tu nombre, cargo e información de contacto.\n",
      "\n",
      "\n",
      "==================================================\n",
      "\n",
      "Respuesta Agente 2:\n",
      "Aquí tienes la estructura del correo electrónico, diseñada para ser ingeniosa, atractiva y con un toque de humor:\n",
      "\n",
      "---\n",
      "\n",
      "**Asunto:** ¿Tu Nube Necesita un \"Glow-Up\" con IA? 😉\n",
      "\n",
      "**Cuerpo del Correo:**\n",
      "\n",
      "Hola [Nombre del Contacto],\n",
      "\n",
      "Espero que este email te encuentre tan brillante como tu próxima idea de negocio (y no enterrado bajo una montaña de tareas).\n",
      "\n",
      "Me acerco desde Fivok Cloud Solutions, y no, no somos *otro* proveedor de servicios tech. Piensa en nosotros como los \"entrenadores personales\" para la tecnología de tu empresa. Entendemos que manejar la arquitectura en la nube, dar sentido a tu mar de datos y optimizar el desarrollo de software puede sentirse a veces como una maratón... ¡con los ojos vendados!\n",
      "\n",
      "Aquí es donde entramos nosotros, con una pizca de encanto y una gran dosis de IA. Nos especializamos en arquitectura en la nube inteligente, análisis de datos BI que realmente hablan (¡y no balbucean!), y consultoría de software que te hará preguntarte por qué no nos conociste antes. Todo impulsado por una IA tan astuta, que hasta podría escribir este correo mejor que yo (¡pero no tiene mi sentido del humor!).\n",
      "\n",
      "Nuestra misión es transformar esos desafíos complejos en oportunidades brillantes, haciendo que tu negocio no solo funcione, sino que *brille*. Queremos que tu tecnología trabaje *para ti*, no *contra ti*.\n",
      "\n",
      "¿Te apetece una conversación rápida, de unos 15 minutos, para ver si podemos añadir un poco de magia impulsada por IA a tus operaciones? Prometo que será más entretenido que la mayoría de tus reuniones (y mucho más útil).\n",
      "\n",
      "Hazme saber si te parece bien algún momento la próxima semana.\n",
      "\n",
      "Saludos cordiales (y con la esperanza de ser tu solución),\n",
      "\n",
      "[Tu Nombre]\n",
      "[Tu Título]\n",
      "Fivok Cloud Solutions\n",
      "*Tu Futuro en la Nube, Potenciado por IA (y un toque de genialidad)*\n",
      "[Tu Número de Contacto]\n",
      "[Tu Enlace de LinkedIn (Opcional)]\n",
      "[Sitio Web de Fivok]\n",
      "\n",
      "---\n",
      "\n",
      "==================================================\n",
      "\n",
      "Total de respuestas: 2\n",
      "Agente 1: Agente de ventas profesional\n",
      "Agente 2: Agente de ventas atractivo\n"
     ]
    }
   ],
   "source": [
    "\n",
    "# Imprimir cada respuesta indexada para identificar cuál corresponde a cada agente\n",
    "for i, output in enumerate(outputs, 1):\n",
    "    print(f\"Respuesta Agente {i}:\")\n",
    "    print(output)\n",
    "    print(\"\\n\" + \"=\"*50 + \"\\n\")\n",
    "\n",
    "# También mostrar información adicional\n",
    "print(f\"Total de respuestas: {len(outputs)}\")\n",
    "print(f\"Agente 1: {sales_agent1.name}\")\n",
    "print(f\"Agente 2: {sales_agent2.name}\")"
   ]
  },
  {
   "cell_type": "code",
   "execution_count": 30,
   "id": "0089b19c",
   "metadata": {},
   "outputs": [],
   "source": [
    "#agente selector de correos\n",
    "sales_picker = Agent(\n",
    "    name=\"sales_picker\",\n",
    "    instructions=\"Elige el mejor correo electrónico de ventas en frío entre las opciones disponibles. \\\n",
    "        Imagina que eres un cliente y elige el que probablemente te responda. \\\n",
    "        No des explicaciones; responde solo con el correo electrónico seleccionado.\",\n",
    "    model = gemini_model_agent2\n",
    ")"
   ]
  },
  {
   "cell_type": "code",
   "execution_count": 35,
   "id": "68e6260a",
   "metadata": {},
   "outputs": [
    {
     "name": "stdout",
     "output_type": "stream",
     "text": [
      "El mejor email de ventas:\n",
      "**Asunto:** ¿Tu nube te está pesando o elevando? ☁️\n",
      "\n",
      "Hola [Nombre del Contacto],\n",
      "\n",
      "Sé que tu bandeja de entrada es como un universo paralelo de mensajes, así que seré tu estrella fugaz: directo al punto y, espero, dejando una buena impresión. Mi nombre es [Tu Nombre] y, aunque no soy un genio con la lámpara, tengo algo mejor: Fivok Cloud Soluctions.\n",
      "\n",
      "Aquí en Fivok, nos hemos dado cuenta de que muchas empresas están 'en la nube', pero pocas están realmente 'en el cielo' de la eficiencia y la innovación. ¿Te suena? Gestionar una arquitectura compleja, descifrar tus datos o lanzar software que realmente funcione... puede ser un verdadero rompecabezas.\n",
      "\n",
      "Nosotros somos los maestros de ese rompecabezas. Con nuestra magia de arquitectura en la nube, inteligencia de datos (BI) para sacar el máximo jugo a tu información, y consultoría de software, todo impulsado por IA, transformamos tus desafíos digitales en tus mayores ventajas competitivas.\n",
      "\n",
      "Imagina: tu infraestructura tan fluida como la seda, tus datos dándote respuestas claras antes de que las preguntes, y tus proyectos de software ejecutándose sin dramas. Menos dolores de cabeza, más resultados espectaculares.\n",
      "\n",
      "Entiendo que tu tiempo es oro (y el mío también, créeme). Pero si la idea de que tu tecnología trabaje *para ti* (y no al revés) te intriga, ¿te gustaría que charláramos unos 15 minutos? Podríamos explorar cómo Fivok puede ser la pieza que le falta a tu rompecabezas digital.\n",
      "\n",
      "Si no es el momento perfecto, ¡no pasa nada! Siempre puedes guardar este email como un recordatorio de que existe la posibilidad de un futuro digital más emocionante (y con menos drama).\n",
      "\n",
      "Con un toque de ingenio (y mucha tecnología),\n",
      "\n",
      "[Tu Nombre]\n",
      "Especialista en Soluciones Fivok\n",
      "Fivok Cloud Soluctions\n",
      "[Tu Teléfono] | [Tu Email]\n",
      "[Tu LinkedIn (opcional)] | [www.fivok.com]\n"
     ]
    }
   ],
   "source": [
    "message = \"Escribe un correo electrónico de ventas en frío\"\n",
    "\n",
    "with trace(\"Selección del equipo de ventas\"):\n",
    "    results = await asyncio.gather(\n",
    "        Runner.run(sales_agent1, message),\n",
    "        Runner.run(sales_agent2, message),\n",
    "    )\n",
    "    outputs = [result.final_output for result in results]\n",
    "\n",
    "    emails = \"Emails de ventas en frío:\\n\\n\".join(outputs)\n",
    "\n",
    "    best = await Runner.run(sales_picker, emails)\n",
    "\n",
    "    print(f\"El mejor email de ventas:\\n{best.final_output}\")"
   ]
  },
  {
   "cell_type": "markdown",
   "id": "5567a2ef",
   "metadata": {},
   "source": [
    "## Adicionando Herramientas\n",
    "\n",
    "para que una funcion se comporte o se pueda traducir como una herramienta para el modelo, se debe colocar la anotacion `@function_tool`\n"
   ]
  },
  {
   "cell_type": "code",
   "execution_count": 11,
   "id": "0195689a",
   "metadata": {},
   "outputs": [],
   "source": [
    "@function_tool #decorador o anotacion que construye el json con la estructura de una tool\n",
    "def send_email(body: str):\n",
    "    \"\"\" Envía un correo electrónico con el cuerpo indicado a todos los clientes potenciales de ventas. \"\"\"\n",
    "    sg = sendgrid.SendGridAPIClient(api_key=os.environ.get('SENDGRID_API_KEY'))\n",
    "    from_email = Email(\"ing.cristian.roac@gmail.com\")  # Cambiar a tu remitente verificado\n",
    "    to_email = To(\"ing.cristian.roac@gmail.com\")  # Cambiar a sureceptor\n",
    "    content = Content(\"text/plain\", body)\n",
    "    mail = Mail(from_email, to_email, \"Email de ventas\", content).get()\n",
    "    response = sg.client.mail.send.post(request_body=mail)\n",
    "    return {\"status\": \"success\"}"
   ]
  },
  {
   "cell_type": "code",
   "execution_count": 12,
   "id": "1475af62",
   "metadata": {},
   "outputs": [
    {
     "data": {
      "text/plain": [
       "FunctionTool(name='send_email', description='Envía un correo electrónico con el cuerpo indicado a todos los clientes potenciales de ventas.', params_json_schema={'properties': {'body': {'title': 'Body', 'type': 'string'}}, 'required': ['body'], 'title': 'send_email_args', 'type': 'object', 'additionalProperties': False}, on_invoke_tool=<function function_tool.<locals>._create_function_tool.<locals>._on_invoke_tool at 0x000001A8BA919B20>, strict_json_schema=True, is_enabled=True)"
      ]
     },
     "execution_count": 12,
     "metadata": {},
     "output_type": "execute_result"
    }
   ],
   "source": [
    "send_email"
   ]
  },
  {
   "cell_type": "markdown",
   "id": "c836660c",
   "metadata": {},
   "source": [
    "## Agentes como herramientas\n",
    "Tambien podemos convertir un objeto Agent() en una tool para que otro llm decida si debe usarse en un flujo"
   ]
  },
  {
   "cell_type": "code",
   "execution_count": 31,
   "id": "b9d65e43",
   "metadata": {},
   "outputs": [],
   "source": [
    "description = \"Escribe un email de ventas en frío\"\n",
    "\n",
    "tool1 = sales_agent1.as_tool(tool_name=\"sales_agent1\", tool_description=description)\n",
    "tool2 = sales_agent2.as_tool(tool_name=\"sales_agent2\", tool_description=description)"
   ]
  },
  {
   "cell_type": "code",
   "execution_count": 32,
   "id": "2d05adc4",
   "metadata": {},
   "outputs": [],
   "source": [
    "# definicion de todas las herramientas\n",
    "tools = [tool1, tool2, send_email]"
   ]
  },
  {
   "cell_type": "markdown",
   "id": "2022eafb",
   "metadata": {},
   "source": [
    "### Coordinador de flujo\n",
    "\n",
    "Ahora se crea un gerente de ventas que \"decide\" que herramienta o agente invocar"
   ]
  },
  {
   "cell_type": "code",
   "execution_count": 47,
   "id": "a7abba9b",
   "metadata": {},
   "outputs": [],
   "source": [
    "instructions =\"Eres gerente de ventas y trabajas para ComplAI. \\\n",
    "Utilizas las herramientas que te proporcionamos para generar correos electrónicos de ventas en frío. \\\n",
    "Nunca generas correos electrónicos de ventas tú mismo; siempre usas las herramientas. \\\n",
    "Pruebas las tres herramientas de sales_agent una vez antes de elegir la mejor. \\\n",
    "Eliges el mejor correo electrónico y usas la herramienta send_email para enviar el mejor correo electrónico (y solo el mejor) al usuario.\"\n",
    "\n",
    "\n",
    "sales_manager = Agent(name=\"Manager de ventas\", instructions=instructions, tools=tools, model=gemini_model_agent1)\n",
    "\n",
    "message = \"Envía un correo electrónico de ventas frío dirigido a 'Estimado director ejecutivo'\"\n",
    "\n",
    "with trace(\"Manager de ventas\"):\n",
    "    result = await Runner.run(sales_manager, message)"
   ]
  },
  {
   "cell_type": "markdown",
   "id": "9dfdb482",
   "metadata": {},
   "source": [
    "### Hand-Off : Transferencia o delegación de Trabajo\n",
    "Agregamos ahora el concepto de `Hands-off` con el cual se le da la facilidad a un modelo llm  que utilice el conocimiento de otro modelo llm con esto el flujo de trabajo de la solución dejaría de ser un `workflow` en donde un agente usa herramientas a un flujo `agentic` donde hay una conversacion entre varios agentes (según Antrophic)"
   ]
  },
  {
   "cell_type": "code",
   "execution_count": 33,
   "id": "8448ec93",
   "metadata": {},
   "outputs": [],
   "source": [
    "subject_instructions = \"Puedes escribir un asunto para un correo electrónico de ventas en frío. \\\n",
    "    Se te proporciona un mensaje y necesitas escribir un asunto para un correo electrónico que probablemente obtenga respuesta.\"\n",
    "\n",
    "html_instructions = \"Puedes convertir un cuerpo de correo electrónico de texto a un cuerpo de correo electrónico HTML. \\\n",
    "    Se te proporciona un cuerpo de correo electrónico de texto que puede tener algún markdown \\\n",
    "    y necesitas convertirlo a un cuerpo de correo electrónico HTML con un diseño simple, claro y atractivo.\"\n",
    "\n",
    "subject_writer = Agent(name=\"Escritor de asunto de correo electrónico\", instructions=subject_instructions, model=gemini_model_agent1)\n",
    "subject_tool = subject_writer.as_tool(tool_name=\"subject_writer\", \n",
    "                                      tool_description=\"Escribe un asunto para un correo electrónico de ventas en frío\")\n",
    "\n",
    "#herramientas para mejorar el correo                                      \n",
    "html_converter = Agent(name=\"Conversor de cuerpo de correo electrónico HTML\", instructions=html_instructions, model=gemini_model_agent1)\n",
    "html_tool = html_converter.as_tool(tool_name=\"html_converter\",\n",
    "                                   tool_description=\"Convierte un cuerpo de correo electrónico de texto a un cuerpo de correo electrónico HTML\")"
   ]
  },
  {
   "cell_type": "code",
   "execution_count": 34,
   "id": "78b5a07b",
   "metadata": {},
   "outputs": [],
   "source": [
    "#nueva herramienta que envia el correo html con sendgrid\n",
    "@function_tool\n",
    "def send_html_email(subject: str, html_body: str) -> Dict[str, str]:\n",
    "    \"\"\" Envía un correo electrónico con el asunto y el cuerpo HTML a todos los clientes potenciales de ventas \"\"\"\n",
    "    sg = sendgrid.SendGridAPIClient(api_key=os.environ.get('SENDGRID_API_KEY'))\n",
    "    from_email = Email(\"ing.cristian.roac@gmail.com\")  # Cambiar a tu remitente verificado\n",
    "    to_email = To(\"ing.cristian.roac@gmail.com\")  # Cambiar a sureceptor\n",
    "    content = Content(\"text/html\", html_body)\n",
    "    mail = Mail(from_email, to_email, subject, content).get()\n",
    "    response = sg.client.mail.send.post(request_body=mail)\n",
    "    return {\"status\": \"success\"}\n",
    "\n",
    "tools = [subject_tool, html_tool, send_html_email]"
   ]
  },
  {
   "cell_type": "code",
   "execution_count": 35,
   "id": "b28adea8",
   "metadata": {},
   "outputs": [],
   "source": [
    "#creamos un Nuevo Agente para el hands-off \n",
    "\n",
    "instructions =\"Eres un formateador y remitente de correos electrónicos. \\\n",
    "    Recibes el cuerpo de un correo electrónico para enviarlo. \\\n",
    "    Primero usas la herramienta subject_writer para escribir un asunto para el correo electrónico, \\\n",
    "    luego usas la herramienta html_converter para convertir el cuerpo a HTML. \\\n",
    "    Finalmente, usas la herramienta send_html_email para enviar el correo electrónico con el asunto y el cuerpo HTML.\"\n",
    "\n",
    "\n",
    "emailer_agent = Agent(\n",
    "    name=\"Email Manager\",\n",
    "    instructions=instructions,\n",
    "    tools=tools,\n",
    "    model=gemini_model_agent2,\n",
    "    handoff_description=\"Convierte un email a HTML y lo envía\")"
   ]
  },
  {
   "cell_type": "code",
   "execution_count": 36,
   "id": "ea8e4eff",
   "metadata": {},
   "outputs": [],
   "source": [
    "\n",
    "handoffs = [emailer_agent]\n"
   ]
  },
  {
   "cell_type": "code",
   "execution_count": 39,
   "id": "0513dfa8",
   "metadata": {},
   "outputs": [],
   "source": [
    "sales_manager_instructions = \"Eres un gerente de ventas que trabaja para Fivok Cloud Soluctions. Utilizas las herramientas que se te proporcionan para generar correos electrónicos de ventas en frío. \\\n",
    "Nunca generas correos electrónicos de ventas tú mismo; siempre utilizas las herramientas. \\\n",
    "Pruebas las 3 herramientas del agente de ventas al menos una vez antes de elegir la mejor. \\\n",
    "Puedes usar las herramientas múltiples veces si no estás satisfecho con los resultados del primer intento. \\\n",
    "Seleccionas el mejor correo electrónico usando tu propio criterio sobre cuál será más efectivo. \\\n",
    "Después de elegir el correo electrónico, transfieres al agente Email Manager para formatear y enviar el correo.\"\n",
    "\n",
    "\n",
    "sales_manager = Agent(\n",
    "    name=\"Manager de ventas\",\n",
    "    instructions=sales_manager_instructions,\n",
    "    tools=tools,\n",
    "    handoffs=handoffs,\n",
    "    model=gemini_model_agent2)\n",
    "\n",
    "message = \"Envía un correo electrónico de ventas en frío dirigido a 'Estimado director ejecutivo'\"\n",
    "\n",
    "with trace(\"Automated SDR\"):\n",
    "    result = await Runner.run(sales_manager, message)"
   ]
  },
  {
   "cell_type": "markdown",
   "id": "f6539ec2",
   "metadata": {},
   "source": [
    "### Guarda Railes\n",
    "Un `guardrail` es un agente o funcion que se encarga de monitorear los resultados de los demas agentes con el fin de `catchear` un comportamiento inadecuado que definamos desde el dominio de nuestra apliacion, cuando el guarda rail se activa, este ejecuta una excepcion que puede ser utilizada para aplicar logica de negocio"
   ]
  },
  {
   "cell_type": "code",
   "execution_count": 42,
   "id": "991277e9",
   "metadata": {},
   "outputs": [],
   "source": [
    "class NameCheckOutput(BaseModel):\n",
    "    is_name_in_message: bool\n",
    "    name: str\n",
    "\n",
    "guardrail_agent = Agent( \n",
    "    name=\"Revisión de nombre\",\n",
    "    instructions=\"Revisa si el usuario está incluyendo el nombre personal de alguien en lo que quiere que hagas.\",\n",
    "    output_type=NameCheckOutput,\n",
    "    model=gemini_model_agent1\n",
    ")"
   ]
  },
  {
   "cell_type": "code",
   "execution_count": 43,
   "id": "7c5c7791",
   "metadata": {},
   "outputs": [],
   "source": [
    "#se define el guardrail mediante la anotacion @input_guardrail\n",
    "@input_guardrail\n",
    "async def guardrail_against_name(ctx, agent, message):\n",
    "    result = await Runner.run(guardrail_agent, message, context=ctx.context)\n",
    "    is_name_in_message = result.final_output.is_name_in_message\n",
    "    return GuardrailFunctionOutput(output_info={\"found_name\": result.final_output},tripwire_triggered=is_name_in_message)"
   ]
  },
  {
   "cell_type": "code",
   "execution_count": 44,
   "id": "b4e9d1a9",
   "metadata": {},
   "outputs": [
    {
     "ename": "InputGuardrailTripwireTriggered",
     "evalue": "Guardrail InputGuardrail triggered tripwire",
     "output_type": "error",
     "traceback": [
      "\u001b[31m---------------------------------------------------------------------------\u001b[39m",
      "\u001b[31mInputGuardrailTripwireTriggered\u001b[39m           Traceback (most recent call last)",
      "\u001b[36mCell\u001b[39m\u001b[36m \u001b[39m\u001b[32mIn[44]\u001b[39m\u001b[32m, line 13\u001b[39m\n\u001b[32m     10\u001b[39m message = \u001b[33m\"\u001b[39m\u001b[33mEnvía un correo electrónico de ventas en frío dirigido a \u001b[39m\u001b[33m'\u001b[39m\u001b[33mEstimado director ejecutivo\u001b[39m\u001b[33m'\u001b[39m\u001b[33m desde Alice\u001b[39m\u001b[33m\"\u001b[39m\n\u001b[32m     12\u001b[39m \u001b[38;5;28;01mwith\u001b[39;00m trace(\u001b[33m\"\u001b[39m\u001b[33mProtected Automated SDR\u001b[39m\u001b[33m\"\u001b[39m):\n\u001b[32m---> \u001b[39m\u001b[32m13\u001b[39m     result = \u001b[38;5;28;01mawait\u001b[39;00m Runner.run(careful_sales_manager, message)\n",
      "\u001b[36mFile \u001b[39m\u001b[32md:\\cfroc\\Documents\\estudio\\udemy\\agents-practices\\.venv\\Lib\\site-packages\\agents\\run.py:267\u001b[39m, in \u001b[36mRunner.run\u001b[39m\u001b[34m(cls, starting_agent, input, context, max_turns, hooks, run_config, previous_response_id, conversation_id, session)\u001b[39m\n\u001b[32m    233\u001b[39m \u001b[38;5;250m\u001b[39m\u001b[33;03m\"\"\"Run a workflow starting at the given agent. The agent will run in a loop until a final\u001b[39;00m\n\u001b[32m    234\u001b[39m \u001b[33;03moutput is generated. The loop runs like so:\u001b[39;00m\n\u001b[32m    235\u001b[39m \u001b[33;03m1. The agent is invoked with the given input.\u001b[39;00m\n\u001b[32m   (...)\u001b[39m\u001b[32m    264\u001b[39m \u001b[33;03m    agent. Agents may perform handoffs, so we don't know the specific type of the output.\u001b[39;00m\n\u001b[32m    265\u001b[39m \u001b[33;03m\"\"\"\u001b[39;00m\n\u001b[32m    266\u001b[39m runner = DEFAULT_AGENT_RUNNER\n\u001b[32m--> \u001b[39m\u001b[32m267\u001b[39m \u001b[38;5;28;01mreturn\u001b[39;00m \u001b[38;5;28;01mawait\u001b[39;00m runner.run(\n\u001b[32m    268\u001b[39m     starting_agent,\n\u001b[32m    269\u001b[39m     \u001b[38;5;28minput\u001b[39m,\n\u001b[32m    270\u001b[39m     context=context,\n\u001b[32m    271\u001b[39m     max_turns=max_turns,\n\u001b[32m    272\u001b[39m     hooks=hooks,\n\u001b[32m    273\u001b[39m     run_config=run_config,\n\u001b[32m    274\u001b[39m     previous_response_id=previous_response_id,\n\u001b[32m    275\u001b[39m     conversation_id=conversation_id,\n\u001b[32m    276\u001b[39m     session=session,\n\u001b[32m    277\u001b[39m )\n",
      "\u001b[36mFile \u001b[39m\u001b[32md:\\cfroc\\Documents\\estudio\\udemy\\agents-practices\\.venv\\Lib\\site-packages\\agents\\run.py:481\u001b[39m, in \u001b[36mAgentRunner.run\u001b[39m\u001b[34m(self, starting_agent, input, **kwargs)\u001b[39m\n\u001b[32m    476\u001b[39m logger.debug(\n\u001b[32m    477\u001b[39m     \u001b[33mf\u001b[39m\u001b[33m\"\u001b[39m\u001b[33mRunning agent \u001b[39m\u001b[38;5;132;01m{\u001b[39;00mcurrent_agent.name\u001b[38;5;132;01m}\u001b[39;00m\u001b[33m (turn \u001b[39m\u001b[38;5;132;01m{\u001b[39;00mcurrent_turn\u001b[38;5;132;01m}\u001b[39;00m\u001b[33m)\u001b[39m\u001b[33m\"\u001b[39m,\n\u001b[32m    478\u001b[39m )\n\u001b[32m    480\u001b[39m \u001b[38;5;28;01mif\u001b[39;00m current_turn == \u001b[32m1\u001b[39m:\n\u001b[32m--> \u001b[39m\u001b[32m481\u001b[39m     input_guardrail_results, turn_result = \u001b[38;5;28;01mawait\u001b[39;00m asyncio.gather(\n\u001b[32m    482\u001b[39m         \u001b[38;5;28mself\u001b[39m._run_input_guardrails(\n\u001b[32m    483\u001b[39m             starting_agent,\n\u001b[32m    484\u001b[39m             starting_agent.input_guardrails\n\u001b[32m    485\u001b[39m             + (run_config.input_guardrails \u001b[38;5;129;01mor\u001b[39;00m []),\n\u001b[32m    486\u001b[39m             _copy_str_or_list(prepared_input),\n\u001b[32m    487\u001b[39m             context_wrapper,\n\u001b[32m    488\u001b[39m         ),\n\u001b[32m    489\u001b[39m         \u001b[38;5;28mself\u001b[39m._run_single_turn(\n\u001b[32m    490\u001b[39m             agent=current_agent,\n\u001b[32m    491\u001b[39m             all_tools=all_tools,\n\u001b[32m    492\u001b[39m             original_input=original_input,\n\u001b[32m    493\u001b[39m             generated_items=generated_items,\n\u001b[32m    494\u001b[39m             hooks=hooks,\n\u001b[32m    495\u001b[39m             context_wrapper=context_wrapper,\n\u001b[32m    496\u001b[39m             run_config=run_config,\n\u001b[32m    497\u001b[39m             should_run_agent_start_hooks=should_run_agent_start_hooks,\n\u001b[32m    498\u001b[39m             tool_use_tracker=tool_use_tracker,\n\u001b[32m    499\u001b[39m             previous_response_id=previous_response_id,\n\u001b[32m    500\u001b[39m             conversation_id=conversation_id,\n\u001b[32m    501\u001b[39m         ),\n\u001b[32m    502\u001b[39m     )\n\u001b[32m    503\u001b[39m \u001b[38;5;28;01melse\u001b[39;00m:\n\u001b[32m    504\u001b[39m     turn_result = \u001b[38;5;28;01mawait\u001b[39;00m \u001b[38;5;28mself\u001b[39m._run_single_turn(\n\u001b[32m    505\u001b[39m         agent=current_agent,\n\u001b[32m    506\u001b[39m         all_tools=all_tools,\n\u001b[32m   (...)\u001b[39m\u001b[32m    515\u001b[39m         conversation_id=conversation_id,\n\u001b[32m    516\u001b[39m     )\n",
      "\u001b[36mFile \u001b[39m\u001b[32md:\\cfroc\\Documents\\estudio\\udemy\\agents-practices\\.venv\\Lib\\site-packages\\agents\\run.py:1295\u001b[39m, in \u001b[36mAgentRunner._run_input_guardrails\u001b[39m\u001b[34m(cls, agent, guardrails, input, context)\u001b[39m\n\u001b[32m   1288\u001b[39m         t.cancel()\n\u001b[32m   1289\u001b[39m     _error_tracing.attach_error_to_current_span(\n\u001b[32m   1290\u001b[39m         SpanError(\n\u001b[32m   1291\u001b[39m             message=\u001b[33m\"\u001b[39m\u001b[33mGuardrail tripwire triggered\u001b[39m\u001b[33m\"\u001b[39m,\n\u001b[32m   1292\u001b[39m             data={\u001b[33m\"\u001b[39m\u001b[33mguardrail\u001b[39m\u001b[33m\"\u001b[39m: result.guardrail.get_name()},\n\u001b[32m   1293\u001b[39m         )\n\u001b[32m   1294\u001b[39m     )\n\u001b[32m-> \u001b[39m\u001b[32m1295\u001b[39m     \u001b[38;5;28;01mraise\u001b[39;00m InputGuardrailTripwireTriggered(result)\n\u001b[32m   1296\u001b[39m \u001b[38;5;28;01melse\u001b[39;00m:\n\u001b[32m   1297\u001b[39m     guardrail_results.append(result)\n",
      "\u001b[31mInputGuardrailTripwireTriggered\u001b[39m: Guardrail InputGuardrail triggered tripwire"
     ]
    }
   ],
   "source": [
    "careful_sales_manager = Agent(\n",
    "    name=\"Manager de ventas\",\n",
    "    instructions=sales_manager_instructions,\n",
    "    tools=tools,\n",
    "    handoffs=[emailer_agent],\n",
    "    model=gemini_model_agent2,\n",
    "    input_guardrails=[guardrail_against_name]\n",
    "    )\n",
    "\n",
    "message = \"Envía un correo electrónico de ventas en frío dirigido a 'Estimado director ejecutivo' desde Alice\"\n",
    "\n",
    "with trace(\"Protected Automated SDR\"):\n",
    "    result = await Runner.run(careful_sales_manager, message)"
   ]
  },
  {
   "cell_type": "markdown",
   "id": "07c424ea",
   "metadata": {},
   "source": [
    "Se observa la excepción activada por el guarda rail, cuya función era detectar si el correo electrónico se envía desde un NOMBRE "
   ]
  },
  {
   "cell_type": "code",
   "execution_count": null,
   "id": "c88123e8",
   "metadata": {},
   "outputs": [],
   "source": [
    " model_settings=ModelSettings(tool_choice=\"required\") # esta linea garantiza que el agente utilice obligatoriamente la tool definida\n",
    " #ejemplo\n",
    " search_agent = Agent(\n",
    "    name=\"Agente de búsqueda\",\n",
    "    instructions=INSTRUCTIONS,\n",
    "    tools=[WebSearchTool(search_context_size=\"low\")],#hosttools herramienta alojada por openia\n",
    "    model=\"gpt-4o-mini\",\n",
    "    model_settings=ModelSettings(tool_choice=\"required\"),\n",
    ")"
   ]
  }
 ],
 "metadata": {
  "kernelspec": {
   "display_name": ".venv",
   "language": "python",
   "name": "python3"
  },
  "language_info": {
   "codemirror_mode": {
    "name": "ipython",
    "version": 3
   },
   "file_extension": ".py",
   "mimetype": "text/x-python",
   "name": "python",
   "nbconvert_exporter": "python",
   "pygments_lexer": "ipython3",
   "version": "3.12.6"
  }
 },
 "nbformat": 4,
 "nbformat_minor": 5
}
