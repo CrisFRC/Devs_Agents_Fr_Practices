{
 "cells": [
  {
   "cell_type": "markdown",
   "id": "3ef83368",
   "metadata": {},
   "source": [
    "#### Laboratorio de LangGraph\n",
    "Este notebook contiene notas de estudio para el framework de langGraph, desde lo mas basico a funciones mas avanzadas "
   ]
  },
  {
   "cell_type": "code",
   "execution_count": 3,
   "id": "d523dc71",
   "metadata": {},
   "outputs": [
    {
     "data": {
      "text/plain": [
       "True"
      ]
     },
     "execution_count": 3,
     "metadata": {},
     "output_type": "execute_result"
    }
   ],
   "source": [
    "from typing import Annotated\n",
    "from langgraph.graph import StateGraph, START, END\n",
    "from langgraph.graph.message import add_messages\n",
    "from dotenv import load_dotenv\n",
    "from IPython.display import Image, display\n",
    "import gradio as gr\n",
    "from langgraph.graph import StateGraph\n",
    "from langgraph.graph.message import add_messages\n",
    "from langchain_openai import ChatOpenAI\n",
    "from pydantic import BaseModel\n",
    "import random\n",
    "import urllib.parse\n",
    "\n",
    "\n",
    "load_dotenv(override=True)"
   ]
  },
  {
   "cell_type": "markdown",
   "id": "92390062",
   "metadata": {},
   "source": [
    "##### Ejercicio 1\n",
    "Definicio de un Grafo Simple que consta de una entrada, un nodo y una salida\n",
    "\n",
    "el nodo corresponde a un chat simple hecho en gradio que responde con palabras aleatorias sin `LLM`.\n",
    "Se utiliza el tipado + anotacion en python: `my_favorite_things: Annotated[list,\" estas son algunas de mis cosas favoritas \"]` \n",
    "ya que Langgraph necesita que usemos esta función cuando definimos nuestro objeto de estado.\n",
    "Quiere que le digamos qué función debe llamar para actualizar el estado con un nuevo valor.\n",
    "Esta función se llama **reductor**.\n",
    "Langgraph proporciona un reductor predeterminado llamado `add_messages` que se encarga del caso más común.\n",
    "Y con suerte explica por qué el estado se ve así.\n",
    "\n",
    "**Pasos para crear un grafo**\n",
    "1. Definir el estado\n",
    "2. incializar el constructor del grafo con el estado\n",
    "3. creacion del nodo\n",
    "4. creacion de aristas\n",
    "5. compilzacion del nodo"
   ]
  },
  {
   "cell_type": "code",
   "execution_count": null,
   "id": "dfaf4977",
   "metadata": {},
   "outputs": [],
   "source": [
    "nouns = [\"Coles\", \"Unicornios\", \"Tostadora\", \"Pinguinos\", \"Bananas\", \"Zombies\", \"Arcoiris\", \"Anguilas\", \"Pepinillos\", \"Muffins\"]\n",
    "adjectives = [\"malos\", \"pedantes\", \"existenciales\", \"malhumorados\", \"brillantes\", \"desconfiados\", \"sarcásticos\", \"mollosos\", \"misteriosos\"]\n",
    "\n",
    "# Algunas funciones útiles\n",
    "\n",
    "def get_random_noun():\n",
    "    return random.choice(nouns)\n",
    "\n",
    "def get_random_adjective():\n",
    "    return random.choice(adjectives)\n",
    "\n",
    "# 1.Definición del estado\n",
    "class State(BaseModel):\n",
    "    messages: Annotated[list, add_messages]\n",
    "\n",
    "# 2.Inicialización del constructor del grafo\n",
    "graph_builder = StateGraph(State)    \n",
    "\n",
    "# 3. Creacion de nodo\n",
    "def our_first_node(old_state: State) -> State:\n",
    "\n",
    "    reply = f\"{random.choice(nouns)} son {random.choice(adjectives)}\"\n",
    "    messages = [{\"role\": \"assistant\", \"content\": reply}]\n",
    "\n",
    "    new_state = State(messages=messages)\n",
    "\n",
    "    return new_state\n",
    "\n",
    "graph_builder.add_node(\"first_node\", our_first_node)\n",
    "\n",
    "# 4. Creacion de aristas\n",
    "graph_builder.add_edge(START, \"first_node\")\n",
    "graph_builder.add_edge(\"first_node\", END)\n",
    "\n",
    "# 5. compilación del grafo\n",
    "graph = graph_builder.compile()"
   ]
  },
  {
   "cell_type": "code",
   "execution_count": 4,
   "id": "e75fa7c3",
   "metadata": {},
   "outputs": [
    {
     "data": {
      "image/png": "[encoded data removed]",
      "text/plain": [
       "<IPython.core.display.Image object>"
      ]
     },
     "metadata": {},
     "output_type": "display_data"
    }
   ],
   "source": [
    "# Graficamos el nodo\n",
    "display(Image(graph.get_graph().draw_mermaid_png()))"
   ]
  },
  {
   "cell_type": "markdown",
   "id": "164ecde0",
   "metadata": {},
   "source": [
    "#### Ejecucion de un Grafo simple\n",
    "Para ejecutar este grafo, se crea una funcion chat"
   ]
  },
  {
   "cell_type": "code",
   "execution_count": 5,
   "id": "b1af2e0c",
   "metadata": {},
   "outputs": [
    {
     "name": "stdout",
     "output_type": "stream",
     "text": [
      "* Running on local URL:  http://127.0.0.1:7860\n",
      "* To create a public link, set `share=True` in `launch()`.\n"
     ]
    },
    {
     "data": {
      "text/html": [
       "<div><iframe src=\"http://127.0.0.1:7860/\" width=\"100%\" height=\"500\" allow=\"autoplay; camera; microphone; clipboard-read; clipboard-write;\" frameborder=\"0\" allowfullscreen></iframe></div>"
      ],
      "text/plain": [
       "<IPython.core.display.HTML object>"
      ]
     },
     "metadata": {},
     "output_type": "display_data"
    },
    {
     "data": {
      "text/plain": []
     },
     "execution_count": 5,
     "metadata": {},
     "output_type": "execute_result"
    },
    {
     "name": "stdout",
     "output_type": "stream",
     "text": [
      "{'messages': [HumanMessage(content='hola', additional_kwargs={}, response_metadata={}, id='8fbd89a9-fe85-4b72-b246-a4dd3d0184f3'), AIMessage(content='Arcoiris son mollosos', additional_kwargs={}, response_metadata={}, id='bbb9e92e-ed8e-4083-b010-5d0a0f24f824')]}\n"
     ]
    }
   ],
   "source": [
    "def chat(user_input: str, history):\n",
    "    message = {\"role\": \"user\", \"content\": user_input}\n",
    "    messages = [message]\n",
    "    state = State(messages=messages)\n",
    "    result = graph.invoke(state)\n",
    "    print(result)\n",
    "    return result[\"messages\"][-1].content\n",
    "\n",
    "\n",
    "gr.ChatInterface(chat, type=\"messages\").launch()"
   ]
  },
  {
   "cell_type": "markdown",
   "id": "fedb06f3",
   "metadata": {},
   "source": [
    "### Adicionando LLM\n",
    "Se adiciona un modelo de llm del provedor de preferencia\n",
    "\n",
    "en este caso utilizamos `gemini`\n",
    "\n",
    "para configurar diferentes proveedores consulte: https://langchain-ai.github.io/langgraph/tutorials/get-started/1-build-basic-chatbot/#2-create-a-stategraph"
   ]
  },
  {
   "cell_type": "code",
   "execution_count": 11,
   "id": "c1b8ebb4",
   "metadata": {},
   "outputs": [
    {
     "name": "stdout",
     "output_type": "stream",
     "text": [
      "\n"
     ]
    }
   ],
   "source": [
    "import os\n",
    "from langchain.chat_models import init_chat_model\n",
    "\n",
    "load_dotenv(override=True)\n",
    "\n",
    "llm = init_chat_model(\"google_genai:gemini-2.0-flash\")\n",
    "print()"
   ]
  },
  {
   "cell_type": "markdown",
   "id": "4ec95d76",
   "metadata": {},
   "source": [
    "Creamos un chat  sin histórico !\n",
    "esto debido a que solo vamos a crear un grafo y cada ves que enviemos una pregunta, langraph ejecutará un **Super Paso**"
   ]
  },
  {
   "cell_type": "code",
   "execution_count": 16,
   "id": "3956a954",
   "metadata": {},
   "outputs": [
    {
     "data": {
      "text/plain": [
       "<langgraph.graph.state.StateGraph at 0x25d2d2ff7a0>"
      ]
     },
     "execution_count": 16,
     "metadata": {},
     "output_type": "execute_result"
    }
   ],
   "source": [
    "class State(BaseModel):\n",
    "    messages: Annotated[list, add_messages]\n",
    "\n",
    "graph_builder = StateGraph(State)    \n",
    "\n",
    "\n",
    "def chatbot_node(old_state: State) -> State:\n",
    "    response = llm.invoke(old_state.messages)\n",
    "    new_state = State(messages=[response])\n",
    "    return new_state\n",
    "\n",
    "graph_builder.add_node(\"chatbot\", chatbot_node)"
   ]
  },
  {
   "cell_type": "code",
   "execution_count": 17,
   "id": "1063b2b1",
   "metadata": {},
   "outputs": [
    {
     "data": {
      "image/png": "[encoded data removed]",
      "text/plain": [
       "<IPython.core.display.Image object>"
      ]
     },
     "metadata": {},
     "output_type": "display_data"
    }
   ],
   "source": [
    "graph_builder.add_edge(START, \"chatbot\")\n",
    "graph_builder.add_edge(\"chatbot\", END)\n",
    "\n",
    "graph = graph_builder.compile()\n",
    "display(Image(graph.get_graph().draw_mermaid_png()))"
   ]
  },
  {
   "cell_type": "code",
   "execution_count": 18,
   "id": "30c11c91",
   "metadata": {},
   "outputs": [
    {
     "name": "stdout",
     "output_type": "stream",
     "text": [
      "* Running on local URL:  http://127.0.0.1:7862\n",
      "* To create a public link, set `share=True` in `launch()`.\n"
     ]
    },
    {
     "data": {
      "text/html": [
       "<div><iframe src=\"http://127.0.0.1:7862/\" width=\"100%\" height=\"500\" allow=\"autoplay; camera; microphone; clipboard-read; clipboard-write;\" frameborder=\"0\" allowfullscreen></iframe></div>"
      ],
      "text/plain": [
       "<IPython.core.display.HTML object>"
      ]
     },
     "metadata": {},
     "output_type": "display_data"
    },
    {
     "data": {
      "text/plain": []
     },
     "execution_count": 18,
     "metadata": {},
     "output_type": "execute_result"
    },
    {
     "name": "stdout",
     "output_type": "stream",
     "text": [
      "{'messages': [HumanMessage(content='hola', additional_kwargs={}, response_metadata={}, id='adcc2d15-4a61-436a-923b-af9bebade1ce'), AIMessage(content='¡Hola! ¿En qué puedo ayudarte hoy? 😊', additional_kwargs={}, response_metadata={'prompt_feedback': {'block_reason': 0, 'safety_ratings': []}, 'finish_reason': 'STOP', 'model_name': 'gemini-2.0-flash', 'safety_ratings': []}, id='run--f6e7e554-ac61-4fa1-9303-c3727124f10e-0', usage_metadata={'input_tokens': 1, 'output_tokens': 12, 'total_tokens': 13, 'input_token_details': {'cache_read': 0}})]}\n",
      "{'messages': [HumanMessage(content='quien eres', additional_kwargs={}, response_metadata={}, id='417738f8-d552-4811-81fc-1bf6bea43f14'), AIMessage(content='Soy un modelo de lenguaje grande, entrenado por Google.', additional_kwargs={}, response_metadata={'prompt_feedback': {'block_reason': 0, 'safety_ratings': []}, 'finish_reason': 'STOP', 'model_name': 'gemini-2.0-flash', 'safety_ratings': []}, id='run--8bf0669b-e45b-4db3-914f-dcf40944d420-0', usage_metadata={'input_tokens': 2, 'output_tokens': 13, 'total_tokens': 15, 'input_token_details': {'cache_read': 0}})]}\n",
      "{'messages': [HumanMessage(content='que fue lo ultimo que pregunte', additional_kwargs={}, response_metadata={}, id='eef85b6b-3cf8-46fe-9d69-e6a3206c1a63'), AIMessage(content='Lo último que preguntaste fue: \"¿que fue lo ultimo que pregunte?\"', additional_kwargs={}, response_metadata={'prompt_feedback': {'block_reason': 0, 'safety_ratings': []}, 'finish_reason': 'STOP', 'model_name': 'gemini-2.0-flash', 'safety_ratings': []}, id='run--4fb3d730-56d2-48ee-8448-b04781a8fdb0-0', usage_metadata={'input_tokens': 8, 'output_tokens': 18, 'total_tokens': 26, 'input_token_details': {'cache_read': 0}})]}\n",
      "{'messages': [HumanMessage(content='me llamo cristian', additional_kwargs={}, response_metadata={}, id='02c9f1ea-06a0-4490-85d3-7b6f9708f7d8'), AIMessage(content='¡Hola Cristian! Un gusto conocerte. ¿En qué puedo ayudarte hoy?', additional_kwargs={}, response_metadata={'prompt_feedback': {'block_reason': 0, 'safety_ratings': []}, 'finish_reason': 'STOP', 'model_name': 'gemini-2.0-flash', 'safety_ratings': []}, id='run--21b3d40b-02be-4044-a3a2-b4612d6d5eb0-0', usage_metadata={'input_tokens': 3, 'output_tokens': 17, 'total_tokens': 20, 'input_token_details': {'cache_read': 0}})]}\n",
      "{'messages': [HumanMessage(content='como me llamo', additional_kwargs={}, response_metadata={}, id='77ec5cab-f73a-4839-9c35-e7f955c24e19'), AIMessage(content='Como modelo de lenguaje, no tengo la capacidad de saber cómo te llamas. ¡Tú eres la única persona que conoce tu nombre! 😊', additional_kwargs={}, response_metadata={'prompt_feedback': {'block_reason': 0, 'safety_ratings': []}, 'finish_reason': 'STOP', 'model_name': 'gemini-2.0-flash', 'safety_ratings': []}, id='run--eb9604fa-2673-42bf-84bd-3b6146cdf68f-0', usage_metadata={'input_tokens': 3, 'output_tokens': 28, 'total_tokens': 31, 'input_token_details': {'cache_read': 0}})]}\n"
     ]
    }
   ],
   "source": [
    "def chat(user_input: str, history):\n",
    "    initial_state = State(messages=[{\"role\": \"user\", \"content\": user_input}])\n",
    "    result = graph.invoke(initial_state)\n",
    "    print(result)\n",
    "    return result['messages'][-1].content\n",
    "\n",
    "\n",
    "gr.ChatInterface(chat, type=\"messages\").launch()"
   ]
  },
  {
   "cell_type": "markdown",
   "id": "39d9e21f",
   "metadata": {},
   "source": [
    "### Ejercicio 2\n",
    "\n",
    "- Implementando LangSmit para observar la trazabilidad\n",
    "- Implementando herramientas auto hosteadas como `GoogleSerperApiWrapper` para búsquedas\n",
    "- Implementando herramientas propias"
   ]
  },
  {
   "cell_type": "code",
   "execution_count": 4,
   "id": "375eb4bd",
   "metadata": {},
   "outputs": [
    {
     "data": {
      "text/plain": [
       "'París (en francés:) es la capital de Francia y de la región de Isla de Francia. Es la ciudad más poblada del país y el único departamento unicomunal de Francia. La. capital de Francia es París. Sin embargo, esto no ha sido siempre así y en el curso de la historia, muchas ciudades se han convertido en capital ... Ciudad de París, Francia París, la capital de Francia, es famosa por su encanto romántico, sus lugares emblemáticos y su rico patrimonio ... Explora los encantos de París, la emblemática capital de Francia. Descubre su historia, cultura y los lugares más visitados. #paris #parís # ... París es la capital de Francia y su ciudad más poblada. Capital de la región de Isla de Francia, constituye el único departamento unicomunal del país. Descubre Paris, la ciudad más bonita del mundo, con Explora Planet. En este video, te llevamos en un recorrido inolvidable por los lugares ... París, la capital de Francia es y será la ciudad más bonita donde aprender francés al mismo tiempo que visita una ciudad rebosante de historia. París es la capital de Francia y la ciudad más poblada del país, con una población de 2,2 millones de habitantes en el interior de sus límites ... Qué ver en París: conoce la capital de Francia · la ciudad de la Torre Eiffel · la Mona Lisa · el río Sena · la Catedral de Notre-Dame · los candados del amor ... Población: 68.606.000 habitantes (66.352.000 en Francia metropolitana; 2.254.000 en los departamentos de ultramar). Capital: París (2.087.577 habitantes, 10. ...'"
      ]
     },
     "execution_count": 4,
     "metadata": {},
     "output_type": "execute_result"
    }
   ],
   "source": [
    "from langchain_community.utilities import GoogleSerperAPIWrapper\n",
    "\n",
    "serper = GoogleSerperAPIWrapper()\n",
    "serper.run(\"¿Cuál es la capital de Francia?\")"
   ]
  },
  {
   "cell_type": "code",
   "execution_count": 5,
   "id": "cd6d1d50",
   "metadata": {},
   "outputs": [],
   "source": [
    "from langchain.agents import Tool\n",
    "\n",
    "#Clase contenedora para convertir la función en una herramienta de LangChain\n",
    "tool_search =Tool(\n",
    "        name=\"search\",\n",
    "        func=serper.run,\n",
    "        description=\"Útil cuando necesitas más información de una búsqueda en línea.\"\n",
    "    )"
   ]
  },
  {
   "cell_type": "code",
   "execution_count": 21,
   "id": "45c31b92",
   "metadata": {},
   "outputs": [
    {
     "data": {
      "text/plain": [
       "'París (en francés:) es la capital de Francia y de la región de Isla de Francia. Es la ciudad más poblada del país y el único departamento unicomunal de ... La. capital de Francia es París. Sin embargo, esto no ha sido siempre así y en el curso de la historia, muchas ciudades se han convertido en capital ... París, la capital de Francia es y será la ciudad más bonita donde aprender francés al mismo tiempo que visita una ciudad rebosante de historia. ... Que Verás: Torre Eiffel: Conoce la historia y curiosidades de ... Francia. Por Qué Verlo: Datos y Curiosidades: Aprende sobre ... París es la capital de Francia y la ciudad más poblada del país, con una ... Sabías que ? Sabías que? Francia intentó invadir a México #CapCut ... Qué ver en París: conoce la capital de Francia · la ciudad de la Torre Eiffel · la Mona Lisa · el río Sena · la Catedral de Notre-Dame · los candados del amor ... País: Francia Capital: París Idioma: francés País miembro de la UE: desde 1958 Saludamos a #Francia en ocasión de su #DíaNacional. Población: 68.606.000 habitantes (66.352.000 en Francia metropolitana; 2.254.000 en los departamentos de ultramar). Capital: París (2.087.577 habitantes, 10. ... Sobre París sabemos muchas cosas: es la capital de Francia y uno de los destinos más visitados en todo el mundo; es cautivadora, sus calles, sus escenarios, ...'"
      ]
     },
     "execution_count": 21,
     "metadata": {},
     "output_type": "execute_result"
    }
   ],
   "source": [
    "#invocamos la herramienta\n",
    "tool_search.invoke(\"¿Cuál es la capital de Francia?\")"
   ]
  },
  {
   "cell_type": "markdown",
   "id": "0bd3c906",
   "metadata": {},
   "source": [
    "##### Escribiendo una herramienta propia\n"
   ]
  },
  {
   "cell_type": "code",
   "execution_count": 6,
   "id": "8ae8a9ed",
   "metadata": {},
   "outputs": [],
   "source": [
    "def generate_link_whatsapp(mensaje=None):\n",
    "  \"\"\"Genera un link de WhatsApp con un mensaje predefinido.\"\"\"\n",
    "  numero = os.getenv('WHATSAPP_NUMBER', '')\n",
    "  url_base = f\"https://wa.me/{numero}\"\n",
    "  if mensaje:\n",
    "    mensaje_codificado = urllib.parse.quote(mensaje)\n",
    "    return f\"{url_base}?text={mensaje_codificado}\"\n",
    "  else:\n",
    "    return url_base\n",
    "  \n",
    "\n",
    "tool_generate_whatsapp_link = Tool(\n",
    "    name=\"generate_whatsapp_link\",\n",
    "    func=generate_link_whatsapp,\n",
    "    description=\"Genera un link de WhatsApp con un mensaje predefinido. Si no se proporciona un mensaje, genera un link vacío.\"\n",
    ")  "
   ]
  },
  {
   "cell_type": "markdown",
   "id": "a0fc8422",
   "metadata": {},
   "source": [
    "Un pequeño cambio: usar TypedDict en lugar de BaseModel para el objeto State\n",
    "Al implementar herramientas, siempre debemos realizar dos cambios en el código:\n",
    "1. Cambios para proporcionar las herramientas a OpenAI en formato JSON al realizar la llamada.\n",
    "2. Cambios para gestionar los resultados: buscar el modelo manteniendo el argumento finish_reason==\"tool_calls\" y luego recuperar la llamada, ejecutar la función y proporcionar los resultados."
   ]
  },
  {
   "cell_type": "code",
   "execution_count": 7,
   "id": "d38791a2",
   "metadata": {},
   "outputs": [],
   "source": [
    "from typing import TypedDict"
   ]
  },
  {
   "cell_type": "code",
   "execution_count": 8,
   "id": "fa2a7b1b",
   "metadata": {},
   "outputs": [],
   "source": [
    "#array de herramientas\n",
    "tools = [tool_search, tool_generate_whatsapp_link]"
   ]
  },
  {
   "cell_type": "markdown",
   "id": "dfc69328",
   "metadata": {},
   "source": [
    "### Creando el Grafo"
   ]
  },
  {
   "cell_type": "code",
   "execution_count": 12,
   "id": "9398fb22",
   "metadata": {},
   "outputs": [],
   "source": [
    "# Paso 1: Definir el objeto Estado\n",
    "class State(TypedDict):\n",
    "    messages: Annotated[list, add_messages]\n",
    "\n",
    "# Paso 2: Iniciar el constructor del Grafo con la clase Estado\n",
    "graph_builder = StateGraph(State)\n",
    "\n",
    "#agregamos las herramientas al agente\n",
    "llm_with_tools = llm.bind_tools(tools)\n",
    "\n"
   ]
  },
  {
   "cell_type": "code",
   "execution_count": null,
   "id": "0e102455",
   "metadata": {},
   "outputs": [
    {
     "data": {
      "text/plain": [
       "<langgraph.graph.state.StateGraph at 0x209368c0680>"
      ]
     },
     "execution_count": 11,
     "metadata": {},
     "output_type": "execute_result"
    }
   ],
   "source": [
    "# Paso 3: Creamos un Nodo\n",
    "from langgraph.prebuilt import ToolNode, tools_condition #utilidad de nodos para herramientas\n",
    "\n",
    "def chatbot(state: State):\n",
    "    return {\"messages\": [llm_with_tools.invoke(state[\"messages\"])]}\n",
    "\n",
    "\n",
    "graph_builder.add_node(\"chatbot\", chatbot)\n",
    "graph_builder.add_node(\"tools\", ToolNode(tools=tools))"
   ]
  },
  {
   "cell_type": "code",
   "execution_count": 12,
   "id": "512de3a8",
   "metadata": {},
   "outputs": [
    {
     "data": {
      "text/plain": [
       "<langgraph.graph.state.StateGraph at 0x209368c0680>"
      ]
     },
     "execution_count": 12,
     "metadata": {},
     "output_type": "execute_result"
    }
   ],
   "source": [
    "# Paso 4: Creamos Aristas\n",
    "graph_builder.add_conditional_edges( \"chatbot\", tools_condition, \"tools\")\n",
    "\n",
    "# Cada vez que se llama a una herramienta, volvemos al chatbot para decidir el siguiente paso.\n",
    "graph_builder.add_edge(\"tools\", \"chatbot\")\n",
    "graph_builder.add_edge(START, \"chatbot\")"
   ]
  },
  {
   "cell_type": "code",
   "execution_count": 13,
   "id": "510dab33",
   "metadata": {},
   "outputs": [
    {
     "data": {
      "image/png": "[encoded data removed]",
      "text/plain": [
       "<IPython.core.display.Image object>"
      ]
     },
     "metadata": {},
     "output_type": "display_data"
    }
   ],
   "source": [
    "# Paso 5: Compilamos el Grafo\n",
    "graph = graph_builder.compile()\n",
    "display(Image(graph.get_graph().draw_mermaid_png()))"
   ]
  },
  {
   "cell_type": "markdown",
   "id": "9ba260a2",
   "metadata": {},
   "source": [
    "### EJECUTAMOS UN CHAT !!"
   ]
  },
  {
   "cell_type": "code",
   "execution_count": null,
   "id": "e68479c6",
   "metadata": {},
   "outputs": [],
   "source": [
    "def chat(user_input: str, history):\n",
    "    result = graph.invoke({\"messages\": [{\"role\": \"user\", \"content\": user_input}]})\n",
    "    return result[\"messages\"][-1].content\n",
    "\n",
    "\n",
    "gr.ChatInterface(chat, type=\"messages\").launch()"
   ]
  },
  {
   "cell_type": "markdown",
   "id": "77d1490f",
   "metadata": {},
   "source": [
    "#### Adicionando Memoria\n",
    "para adicionar una memoria a un grafo, en langgraph se usa el concepto de **CheckPoint**\n",
    "el cual permite chequear un estado en un tiempo especifico de la ejecucion"
   ]
  },
  {
   "cell_type": "code",
   "execution_count": 20,
   "id": "ada16fd9",
   "metadata": {},
   "outputs": [
    {
     "data": {
      "image/png": "[encoded data removed]",
      "text/plain": [
       "<IPython.core.display.Image object>"
      ]
     },
     "metadata": {},
     "output_type": "display_data"
    }
   ],
   "source": [
    "from langgraph.checkpoint.memory import MemorySaver\n",
    "\n",
    "memory = MemorySaver()\n",
    "\n",
    "graph_builder = StateGraph(State)\n",
    "\n",
    "\n",
    "# Step 3\n",
    "llm = init_chat_model(\"google_genai:gemini-2.0-flash\")\n",
    "llm_with_tools = llm.bind_tools(tools)\n",
    "\n",
    "def chatbot(state: State):\n",
    "    print(state)\n",
    "    return {\"messages\": [llm_with_tools.invoke(state[\"messages\"])]}\n",
    "\n",
    "graph_builder.add_node(\"chatbot\", chatbot)\n",
    "graph_builder.add_node(\"tools\", ToolNode(tools=tools))\n",
    "\n",
    "# Step 4\n",
    "graph_builder.add_conditional_edges( \"chatbot\", tools_condition, \"tools\")\n",
    "graph_builder.add_edge(\"tools\", \"chatbot\")\n",
    "graph_builder.add_edge(START, \"chatbot\")\n",
    "\n",
    "# Step 5\n",
    "graph = graph_builder.compile(checkpointer=memory)\n",
    "display(Image(graph.get_graph().draw_mermaid_png()))"
   ]
  },
  {
   "cell_type": "code",
   "execution_count": 21,
   "id": "4dd53f74",
   "metadata": {},
   "outputs": [
    {
     "name": "stdout",
     "output_type": "stream",
     "text": [
      "* Running on local URL:  http://127.0.0.1:7862\n",
      "* To create a public link, set `share=True` in `launch()`.\n"
     ]
    },
    {
     "data": {
      "text/html": [
       "<div><iframe src=\"http://127.0.0.1:7862/\" width=\"100%\" height=\"500\" allow=\"autoplay; camera; microphone; clipboard-read; clipboard-write;\" frameborder=\"0\" allowfullscreen></iframe></div>"
      ],
      "text/plain": [
       "<IPython.core.display.HTML object>"
      ]
     },
     "metadata": {},
     "output_type": "display_data"
    },
    {
     "data": {
      "text/plain": []
     },
     "execution_count": 21,
     "metadata": {},
     "output_type": "execute_result"
    },
    {
     "name": "stdout",
     "output_type": "stream",
     "text": [
      "{'messages': [HumanMessage(content='hola', additional_kwargs={}, response_metadata={}, id='95a35e20-ca3d-4cea-9969-1961a5fbf036')]}\n",
      "{'messages': [HumanMessage(content='hola', additional_kwargs={}, response_metadata={}, id='95a35e20-ca3d-4cea-9969-1961a5fbf036'), AIMessage(content='Hola! Como puedo ayudarte?', additional_kwargs={}, response_metadata={'prompt_feedback': {'block_reason': 0, 'safety_ratings': []}, 'finish_reason': 'STOP', 'model_name': 'gemini-2.0-flash', 'safety_ratings': []}, id='run--f808953e-11c3-4815-9d89-7fed9c9c2589-0', usage_metadata={'input_tokens': 60, 'output_tokens': 6, 'total_tokens': 66, 'input_token_details': {'cache_read': 0}}), HumanMessage(content='mi nombre es cristian', additional_kwargs={}, response_metadata={}, id='6643d582-e1d6-4b25-ba49-20f4995fb870')]}\n",
      "{'messages': [HumanMessage(content='hola', additional_kwargs={}, response_metadata={}, id='95a35e20-ca3d-4cea-9969-1961a5fbf036'), AIMessage(content='Hola! Como puedo ayudarte?', additional_kwargs={}, response_metadata={'prompt_feedback': {'block_reason': 0, 'safety_ratings': []}, 'finish_reason': 'STOP', 'model_name': 'gemini-2.0-flash', 'safety_ratings': []}, id='run--f808953e-11c3-4815-9d89-7fed9c9c2589-0', usage_metadata={'input_tokens': 60, 'output_tokens': 6, 'total_tokens': 66, 'input_token_details': {'cache_read': 0}}), HumanMessage(content='mi nombre es cristian', additional_kwargs={}, response_metadata={}, id='6643d582-e1d6-4b25-ba49-20f4995fb870'), AIMessage(content='Hola Cristian, en que te puedo ayudar hoy?', additional_kwargs={}, response_metadata={'prompt_feedback': {'block_reason': 0, 'safety_ratings': []}, 'finish_reason': 'STOP', 'model_name': 'gemini-2.0-flash', 'safety_ratings': []}, id='run--30325448-06e5-4860-a463-174823fab261-0', usage_metadata={'input_tokens': 70, 'output_tokens': 10, 'total_tokens': 80, 'input_token_details': {'cache_read': 0}}), HumanMessage(content='cual es mi nombre?', additional_kwargs={}, response_metadata={}, id='81449918-9064-4bc3-8a79-2cc04b2bacf3')]}\n"
     ]
    }
   ],
   "source": [
    "config = {\"configurable\": {\"thread_id\": \"1\"}}\n",
    "\n",
    "def chat(user_input: str, history):\n",
    "    result = graph.invoke({\"messages\": [{\"role\": \"user\", \"content\": user_input}]}, config=config)\n",
    "    return result[\"messages\"][-1].content\n",
    "\n",
    "\n",
    "gr.ChatInterface(chat, type=\"messages\").launch()"
   ]
  },
  {
   "cell_type": "markdown",
   "id": "fe8a418e",
   "metadata": {},
   "source": [
    "\n",
    "### Almacenamiento de datos SQL\n",
    "Implementación de SQL Lite para almancenamiento de memoria de los flujos\n"
   ]
  },
  {
   "cell_type": "code",
   "execution_count": 14,
   "id": "732ffdf8",
   "metadata": {},
   "outputs": [],
   "source": [
    "import sqlite3\n",
    "from langgraph.checkpoint.sqlite import SqliteSaver\n",
    "from langgraph.prebuilt import ToolNode, tools_condition \n",
    "\n",
    "db_path = \"memory.db\"\n",
    "conn = sqlite3.connect(db_path, check_same_thread=False)\n",
    "sql_memory = SqliteSaver(conn)"
   ]
  },
  {
   "cell_type": "code",
   "execution_count": 15,
   "id": "9f2e4785",
   "metadata": {},
   "outputs": [
    {
     "data": {
      "image/png": "[encoded data removed]",
      "text/plain": [
       "<IPython.core.display.Image object>"
      ]
     },
     "metadata": {},
     "output_type": "display_data"
    }
   ],
   "source": [
    "# Pasos 1 y 2\n",
    "graph_builder = StateGraph(State)\n",
    "\n",
    "\n",
    "# Paso 3\n",
    "llm = init_chat_model(\"google_genai:gemini-2.0-flash\")\n",
    "llm_with_tools = llm.bind_tools(tools)\n",
    "\n",
    "def chatbot(state: State):\n",
    "    print(state)\n",
    "    return {\"messages\": [llm_with_tools.invoke(state[\"messages\"])]}\n",
    "\n",
    "graph_builder.add_node(\"chatbot\", chatbot)\n",
    "graph_builder.add_node(\"tools\", ToolNode(tools=tools))\n",
    "\n",
    "# Paso 4\n",
    "graph_builder.add_conditional_edges( \"chatbot\", tools_condition, \"tools\")\n",
    "graph_builder.add_edge(\"tools\", \"chatbot\")\n",
    "graph_builder.add_edge(START, \"chatbot\")\n",
    "\n",
    "# Paso 5\n",
    "graph = graph_builder.compile(checkpointer=sql_memory)\n",
    "display(Image(graph.get_graph().draw_mermaid_png()))\n",
    " "
   ]
  },
  {
   "cell_type": "code",
   "execution_count": null,
   "id": "ed362cda",
   "metadata": {},
   "outputs": [
    {
     "name": "stdout",
     "output_type": "stream",
     "text": [
      "* Running on local URL:  http://127.0.0.1:7861\n",
      "* To create a public link, set `share=True` in `launch()`.\n"
     ]
    },
    {
     "data": {
      "text/html": [
       "<div><iframe src=\"http://127.0.0.1:7861/\" width=\"100%\" height=\"500\" allow=\"autoplay; camera; microphone; clipboard-read; clipboard-write;\" frameborder=\"0\" allowfullscreen></iframe></div>"
      ],
      "text/plain": [
       "<IPython.core.display.HTML object>"
      ]
     },
     "metadata": {},
     "output_type": "display_data"
    },
    {
     "data": {
      "text/plain": []
     },
     "execution_count": 17,
     "metadata": {},
     "output_type": "execute_result"
    },
    {
     "name": "stdout",
     "output_type": "stream",
     "text": [
      "{'messages': [HumanMessage(content='hola', additional_kwargs={}, response_metadata={}, id='33842a20-f6d9-4d18-9107-3f941413cdf4'), AIMessage(content='Hola! Como puedo ayudarte?', additional_kwargs={}, response_metadata={'prompt_feedback': {'block_reason': 0, 'safety_ratings': []}, 'finish_reason': 'STOP', 'model_name': 'gemini-2.0-flash', 'safety_ratings': []}, id='run--5c52c90c-448a-45d6-84ce-1d1cc78c1a19-0', usage_metadata={'input_tokens': 60, 'output_tokens': 6, 'total_tokens': 66, 'input_token_details': {'cache_read': 0}}), HumanMessage(content='me llamo cristian', additional_kwargs={}, response_metadata={}, id='abd887ec-51a1-4550-ab5d-64f6513fc0da'), AIMessage(content='Hola Cristian! En que te puedo ayudar hoy?', additional_kwargs={}, response_metadata={'prompt_feedback': {'block_reason': 0, 'safety_ratings': []}, 'finish_reason': 'STOP', 'model_name': 'gemini-2.0-flash', 'safety_ratings': []}, id='run--7e114280-ee92-4a36-b263-b5f01562b1e0-0', usage_metadata={'input_tokens': 69, 'output_tokens': 11, 'total_tokens': 80, 'input_token_details': {'cache_read': 0}}), HumanMessage(content='como me llamo?', additional_kwargs={}, response_metadata={}, id='42156867-e1d3-4490-93cc-6d549557f86c'), AIMessage(content='Te llamas Cristian.', additional_kwargs={}, response_metadata={'prompt_feedback': {'block_reason': 0, 'safety_ratings': []}, 'finish_reason': 'STOP', 'model_name': 'gemini-2.0-flash', 'safety_ratings': []}, id='run--e56520af-4c6f-4de2-837f-31a5e8a9968d-0', usage_metadata={'input_tokens': 83, 'output_tokens': 4, 'total_tokens': 87, 'input_token_details': {'cache_read': 0}}), HumanMessage(content='hola como estas', additional_kwargs={}, response_metadata={}, id='df6d9830-c135-450d-82eb-f0536a7749bb')]}\n",
      "{'messages': [HumanMessage(content='hola', additional_kwargs={}, response_metadata={}, id='33842a20-f6d9-4d18-9107-3f941413cdf4'), AIMessage(content='Hola! Como puedo ayudarte?', additional_kwargs={}, response_metadata={'prompt_feedback': {'block_reason': 0, 'safety_ratings': []}, 'finish_reason': 'STOP', 'model_name': 'gemini-2.0-flash', 'safety_ratings': []}, id='run--5c52c90c-448a-45d6-84ce-1d1cc78c1a19-0', usage_metadata={'input_tokens': 60, 'output_tokens': 6, 'total_tokens': 66, 'input_token_details': {'cache_read': 0}}), HumanMessage(content='me llamo cristian', additional_kwargs={}, response_metadata={}, id='abd887ec-51a1-4550-ab5d-64f6513fc0da'), AIMessage(content='Hola Cristian! En que te puedo ayudar hoy?', additional_kwargs={}, response_metadata={'prompt_feedback': {'block_reason': 0, 'safety_ratings': []}, 'finish_reason': 'STOP', 'model_name': 'gemini-2.0-flash', 'safety_ratings': []}, id='run--7e114280-ee92-4a36-b263-b5f01562b1e0-0', usage_metadata={'input_tokens': 69, 'output_tokens': 11, 'total_tokens': 80, 'input_token_details': {'cache_read': 0}}), HumanMessage(content='como me llamo?', additional_kwargs={}, response_metadata={}, id='42156867-e1d3-4490-93cc-6d549557f86c'), AIMessage(content='Te llamas Cristian.', additional_kwargs={}, response_metadata={'prompt_feedback': {'block_reason': 0, 'safety_ratings': []}, 'finish_reason': 'STOP', 'model_name': 'gemini-2.0-flash', 'safety_ratings': []}, id='run--e56520af-4c6f-4de2-837f-31a5e8a9968d-0', usage_metadata={'input_tokens': 83, 'output_tokens': 4, 'total_tokens': 87, 'input_token_details': {'cache_read': 0}}), HumanMessage(content='hola como estas', additional_kwargs={}, response_metadata={}, id='df6d9830-c135-450d-82eb-f0536a7749bb'), AIMessage(content='Estoy bien, gracias por preguntar. ¿En qué te puedo ayudar hoy?', additional_kwargs={}, response_metadata={'prompt_feedback': {'block_reason': 0, 'safety_ratings': []}, 'finish_reason': 'STOP', 'model_name': 'gemini-2.0-flash', 'safety_ratings': []}, id='run--fb8b0e14-f622-40f1-a9fe-54537c53a617-0', usage_metadata={'input_tokens': 90, 'output_tokens': 15, 'total_tokens': 105, 'input_token_details': {'cache_read': 0}}), HumanMessage(content='recuerdas como me llamo?', additional_kwargs={}, response_metadata={}, id='045f3a7c-0bf3-4f7e-96d8-c04db71e4c3b')]}\n"
     ]
    }
   ],
   "source": [
    "config = {\"configurable\": {\"thread_id\": \"3\"}}\n",
    "\n",
    "def chat(user_input: str, history):\n",
    "    result = graph.invoke({\"messages\": [{\"role\": \"user\", \"content\": user_input}]}, config=config)\n",
    "    return result[\"messages\"][-1].content\n",
    "\n",
    "\n",
    "gr.ChatInterface(chat, type=\"messages\").launch()"
   ]
  }
 ],
 "metadata": {
  "kernelspec": {
   "display_name": "agents-practices",
   "language": "python",
   "name": "python3"
  },
  "language_info": {
   "codemirror_mode": {
    "name": "ipython",
    "version": 3
   },
   "file_extension": ".py",
   "mimetype": "text/x-python",
   "name": "python",
   "nbconvert_exporter": "python",
   "pygments_lexer": "ipython3",
   "version": "3.12.6"
  }
 },
 "nbformat": 4,
 "nbformat_minor": 5
}
