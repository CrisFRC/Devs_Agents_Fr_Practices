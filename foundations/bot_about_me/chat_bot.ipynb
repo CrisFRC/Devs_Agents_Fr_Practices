{
 "cells": [
  {
   "cell_type": "code",
   "execution_count": 10,
   "id": "3c1e52d6",
   "metadata": {},
   "outputs": [],
   "source": [
    "#Inicializacion de liberias\n",
    "\n",
    "from dotenv import load_dotenv\n",
    "from openai import OpenAI\n",
    "from pypdf import PdfReader\n",
    "import gradio as gr\n",
    "import os"
   ]
  },
  {
   "cell_type": "markdown",
   "id": "9b36ea27",
   "metadata": {},
   "source": [
    "## Inicializa la instancia de Modelo\n",
    "Instancia con la cual se hace el llamado del LLM en concreto mediante una peticion HTTML"
   ]
  },
  {
   "cell_type": "code",
   "execution_count": null,
   "id": "6ec0dd56",
   "metadata": {},
   "outputs": [],
   "source": [
    "#Gemini\n",
    "gemini_api_key = os.getenv('GEMINI_API_KEY')\n",
    "\n",
    "load_dotenv(override=True)\n",
    "openai = OpenAI()"
   ]
  },
  {
   "cell_type": "markdown",
   "id": "2bfdda98",
   "metadata": {},
   "source": [
    "## Carga de Recursos\n",
    "Se realiza la lectura de los recursos para el LLM:\n",
    "* Profile.pdf -> hoja de vida en concreto\n",
    "* Summary.tx -> Una descripcion de como soy personal y laboralmente"
   ]
  },
  {
   "cell_type": "code",
   "execution_count": 5,
   "id": "acd08bb7",
   "metadata": {},
   "outputs": [],
   "source": [
    "#lectura pdf\n",
    "reader = PdfReader(\"me/Profile.pdf\")\n",
    "linkedin = \"\"\n",
    "for page in reader.pages:\n",
    "    text = page.extract_text()\n",
    "    if text:\n",
    "        linkedin += text\n",
    "\n",
    "#lectura txt\n",
    "with open(\"me/summary.txt\", \"r\", encoding=\"utf-8\") as f:\n",
    "    summary = f.read()        "
   ]
  },
  {
   "cell_type": "markdown",
   "id": "8740042c",
   "metadata": {},
   "source": [
    "## Definicion de Prompt del systema\n",
    "\n",
    "Instrucciones que se le dan al sistema para que resuelva el objetivo de la manera esperada"
   ]
  },
  {
   "cell_type": "code",
   "execution_count": 6,
   "id": "07544837",
   "metadata": {},
   "outputs": [],
   "source": [
    "#Nombre del Bot = me\n",
    "name = \"Cristian Felipe Roa Cano\"\n",
    "\n",
    "#Prompt del sistema\n",
    "system_prompt = f\"Estás actuando como {name}. Estás respondiendo preguntas en el sitio web de {name}, en particular preguntas relacionadas con la carrera, la trayectoria, las habilidades y la experiencia de {name}. \\\n",
    "Tu responsabilidad es representar a {name} en las interacciones en el sitio web con la mayor fidelidad posible. \\\n",
    "Se te proporciona un resumen de la trayectoria y el perfil de LinkedIn de {name} que puedes usar para responder preguntas. \\\n",
    "Sé profesional y atractivo, como si hablaras con un cliente potencial o un futuro empleador que haya visitado el sitio web. \\\n",
    "Si no sabes la respuesta, dilo.\"\n",
    "\n",
    "system_prompt += f\"\\n\\n## Resumen:\\n{summary}\\n\\n## Perfil de LinkedIn:\\n{linkedin}\\n\\n\"\n",
    "system_prompt += f\"En este contexto, charla con el usuario, utilizando siempre el personaje de {name}.\"\n"
   ]
  },
  {
   "cell_type": "code",
   "execution_count": 7,
   "id": "30ea80f7",
   "metadata": {},
   "outputs": [
    {
     "name": "stdout",
     "output_type": "stream",
     "text": [
      "Estás actuando como Cristian Felipe Roa Cano. Estás respondiendo preguntas en el sitio web de Cristian Felipe Roa Cano, en particular preguntas relacionadas con la carrera, la trayectoria, las habilidades y la experiencia de Cristian Felipe Roa Cano. Tu responsabilidad es representar a Cristian Felipe Roa Cano en las interacciones en el sitio web con la mayor fidelidad posible. Se te proporciona un resumen de la trayectoria y el perfil de LinkedIn de Cristian Felipe Roa Cano que puedes usar para responder preguntas. Sé profesional y atractivo, como si hablaras con un cliente potencial o un futuro empleador que haya visitado el sitio web. Si no sabes la respuesta, dilo.\n",
      "\n",
      "## Resumen:\n",
      "Hola, soy Ingeniero Mecatrónico con experiencia como Software Engineer, apasionado por crear tecnología que realmente marque la diferencia. Me encanta aprender, experimentar y mantenerme al día con las tendencias del mercado, porque creo firmemente que la curiosidad es el mejor motor para la innovación.\n",
      "En mi camino profesional he trabajado como Software Quality Engineer, diseñando y ejecutando estrategias de prueba para sistemas de todo tipo: desde arquitecturas simples hasta soluciones distribuidas y basadas en eventos. He estado tanto en el Front como en el Back, aplicando automatización de pruebas Funcionales y Performance, CI/CD en marcos Ágiles para asegurar que cada entrega sea de calidad.\n",
      "\n",
      "Como buen mecatrónico, me gusta “cacharrear” con diferentes tecnologías y aquí va un poco de lo que disfruto:\n",
      "\n",
      "- Java: mi fiel compañero de viaje (desde programación declarativa hasta reactiva).\n",
      "- Python: la culebrita favorita para IA, ML, DL y visión por computador.\n",
      "- CAD & 3D Printing: diseño, modelado y un par de creaciones propias con mi impresora 3D.\n",
      "- Arduino & C++: porque nunca sobra un buen proyecto de electrónica.\n",
      "\n",
      "En resumen: soy alguien curioso, orientado al detalle y con la motivación constante de dar siempre mi mejor versión.\n",
      "\n",
      "Portfolio: https://drive.google.com/drive/u/1/folders/1tMlctHOd7w3VccM8vDXX0ycXyxzLSJaV\n",
      "Github: https://github.com/CrisFRC\n",
      "\n",
      "## Perfil de LinkedIn:\n",
      "   \n",
      "Contactar\n",
      "3155158440 (Work)\n",
      "ing.cristian.roac@gmail.com\n",
      "www.linkedin.com/in/cfroalkn\n",
      "(LinkedIn)\n",
      "Aptitudes principales\n",
      "Aprendizaje continuo\n",
      "Desarrollo de software\n",
      "Automatización de pruebas\n",
      "Certifications\n",
      "ETL Data Testing: Todo lo que\n",
      "necesitás saber\n",
      "Curso de Introducción a Selenium\n",
      "con Python\n",
      "Curso de Fundamentos de Bases de\n",
      "Datos\n",
      "Curso de Fundamentos de Pruebas\n",
      "de Software\n",
      "OWASP, seguridad web\n",
      "Publications\n",
      "Control and Path Planning for\n",
      "Quadrotor Oriented to Agricultural\n",
      "Support in Annona Muricata Crops\n",
      "Cristian Felipe Roa Cano\n",
      "Software Engineer | Test Automator Engineer | Senior Quality\n",
      "Assurance Engineer | Mechatronic Engineer | DQA\n",
      "Medellín, Antioquia, Colombia\n",
      "Extracto\n",
      "Hola, soy Ingeniero Mecatrónico con experiencia como Software\n",
      "Engineer, apasionado por crear tecnología que realmente marque\n",
      "la diferencia. Me encanta aprender, experimentar y mantenerme al\n",
      "día con las tendencias del mercado, porque creo firmemente que la\n",
      "curiosidad es el mejor motor para la innovación.\n",
      "En mi camino profesional he trabajado como Software Quality\n",
      "Engineer, diseñando y ejecutando estrategias de prueba para\n",
      "sistemas de todo tipo: desde arquitecturas simples hasta soluciones\n",
      "distribuidas y basadas en eventos. He estado tanto en el Front como\n",
      "en el Back, aplicando automatización de pruebas Funcionales y\n",
      "Performance, CI/CD en marcos Ágiles para asegurar que cada\n",
      "entrega sea de calidad.\n",
      "Como buen mecatrónico, me gusta “cacharrear” con diferentes\n",
      "tecnologías y aquí va un poco de lo que disfruto:\n",
      "- Java: mi fiel compañero de viaje (desde programación declarativa\n",
      "hasta reactiva).\n",
      "- Python: la culebrita favorita para IA, ML, DL y visión por\n",
      "computador.\n",
      "- CAD & 3D Printing: diseño, modelado y un par de creaciones\n",
      "propias con mi impresora 3D.\n",
      "- Arduino & C++: porque nunca sobra un buen proyecto de\n",
      "electrónica.\n",
      "✨ En resumen: soy alguien curioso, orientado al detalle y con la\n",
      "motivación constante de dar siempre mi mejor versión.\n",
      "Portfolio: https://drive.google.com/drive/u/1/\n",
      "folders/1tMlctHOd7w3VccM8vDXX0ycXyxzLSJaV\n",
      "Github: https://github.com/CrisFRC\n",
      "  Page 1 of 3   \n",
      "Experiencia\n",
      "Bancolombia\n",
      "Software Engineer\n",
      "diciembre de 2024 - Present (9 meses)\n",
      "Medellín, Antioquia, Colombia\n",
      "Ingeniero de software LDC FC SV NEGOCIOS TI\n",
      "PRAGMA\n",
      "1 año 6 meses\n",
      "Senior Software QA Engineer | Bancolombia\n",
      "julio de 2024 - diciembre de 2024 (6 meses)\n",
      "Medellín, Antioquia, Colombia\n",
      "Analista De Calidad de Software | Bancolombia\n",
      "julio de 2023 - julio de 2024 (1 año 1 mes)\n",
      "Medellín, Antioquia, Colombia\n",
      "Ingeniero de Calidad de software en proyecto de alto impacto para el grupo\n",
      "Bancolombia, desarrollando procesos de certificación en diferentes niveles\n",
      "de integración, aplicando automatizaciones de Back, Front y Performance\n",
      "haciendo uso de  herramientas de despliegue continuo (CI/CD) e incluyendo\n",
      "etapas de calidad y seguridad.\n",
      "Grupo HDI\n",
      "1 año 9 meses\n",
      "QA automator\n",
      "junio de 2022 - julio de 2023 (1 año 2 meses)\n",
      "Medellín, Antioquia, Colombia\n",
      "Automatizador de pruebas en procesos de certificación de tecnología ATM\n",
      "en Bancolombia, haciendo uso del framework Serenity BDD con cucumber,\n",
      "selenium web driver y el patron de ScreenPlay. Realizando procesos de\n",
      "estimación, planificación de pruebas E2E y regresiones mediante software\n",
      "de gestión de pruebas y tecnología mecatrónica. Manejo de la metodologia\n",
      "Scrum y azure DevOps\n",
      "Automatizador\n",
      "noviembre de 2021 - junio de 2022 (8 meses)\n",
      "Bogotá, Distrito Capital, Colombia\n",
      "Desarrollo de soluciones RPA, construcción pruebas de concepto y\n",
      "automatizador de pruebas de software. \n",
      "  Page 2 of 3   \n",
      "Manejo de distintos frameworks de automatización basados en diferentes\n",
      "lenguajes como JAVA y python y conocimiento en herramientas de gestion de\n",
      "pruebas\n",
      "Universidad Militar Nueva Granada\n",
      "Research Study Assistant\n",
      "septiembre de 2020 - diciembre de 2021 (1 año 4 meses)\n",
      "Bogotá, Distrito Capital, Colombia\n",
      "Educación\n",
      "Universidad Militar Nueva Granada\n",
      "Ingeniero Mecatrónico, Ingeniería electrónica, robótica y\n",
      "mecatrónica · (2017 - abril de 2022)\n",
      "  Page 3 of 3\n",
      "\n",
      "En este contexto, charla con el usuario, utilizando siempre el personaje de Cristian Felipe Roa Cano.\n"
     ]
    }
   ],
   "source": [
    "print(system_prompt)"
   ]
  },
  {
   "cell_type": "markdown",
   "id": "0d543fa6",
   "metadata": {},
   "source": [
    "### Aplicacion\n",
    "\n",
    "Chat para hacer preguntas acerca de mi (me)"
   ]
  },
  {
   "cell_type": "code",
   "execution_count": null,
   "id": "cc78df7a",
   "metadata": {},
   "outputs": [],
   "source": [
    "# logica de la aplicacion\n",
    "def chat(message, history):\n",
    "    messages = [{\"role\": \"system\", \"content\": system_prompt}] + history + [{\"role\": \"user\", \"content\": message}] #Lista de mensajes con estructura de OpenIA\n",
    "    response = openai.chat.completions.create(model=\"gpt-4o-mini\", messages=messages)\n",
    "    return response.choices[0].message.content\n",
    "    "
   ]
  },
  {
   "cell_type": "code",
   "execution_count": 9,
   "id": "9bfcc7ca",
   "metadata": {},
   "outputs": [
    {
     "name": "stdout",
     "output_type": "stream",
     "text": [
      "* Running on local URL:  http://127.0.0.1:7860\n",
      "* To create a public link, set `share=True` in `launch()`.\n"
     ]
    },
    {
     "data": {
      "text/html": [
       "<div><iframe src=\"http://127.0.0.1:7860/\" width=\"100%\" height=\"500\" allow=\"autoplay; camera; microphone; clipboard-read; clipboard-write;\" frameborder=\"0\" allowfullscreen></iframe></div>"
      ],
      "text/plain": [
       "<IPython.core.display.HTML object>"
      ]
     },
     "metadata": {},
     "output_type": "display_data"
    },
    {
     "data": {
      "text/plain": []
     },
     "execution_count": 9,
     "metadata": {},
     "output_type": "execute_result"
    },
    {
     "name": "stderr",
     "output_type": "stream",
     "text": [
      "Traceback (most recent call last):\n",
      "  File \"d:\\cfroc\\Documents\\estudio\\udemy\\agents-practices\\.venv\\Lib\\site-packages\\gradio\\queueing.py\", line 626, in process_events\n",
      "    response = await route_utils.call_process_api(\n",
      "               ^^^^^^^^^^^^^^^^^^^^^^^^^^^^^^^^^^^\n",
      "  File \"d:\\cfroc\\Documents\\estudio\\udemy\\agents-practices\\.venv\\Lib\\site-packages\\gradio\\route_utils.py\", line 349, in call_process_api\n",
      "    output = await app.get_blocks().process_api(\n",
      "             ^^^^^^^^^^^^^^^^^^^^^^^^^^^^^^^^^^^\n",
      "  File \"d:\\cfroc\\Documents\\estudio\\udemy\\agents-practices\\.venv\\Lib\\site-packages\\gradio\\blocks.py\", line 2274, in process_api\n",
      "    result = await self.call_function(\n",
      "             ^^^^^^^^^^^^^^^^^^^^^^^^^\n",
      "  File \"d:\\cfroc\\Documents\\estudio\\udemy\\agents-practices\\.venv\\Lib\\site-packages\\gradio\\blocks.py\", line 1779, in call_function\n",
      "    prediction = await fn(*processed_input)\n",
      "                 ^^^^^^^^^^^^^^^^^^^^^^^^^^\n",
      "  File \"d:\\cfroc\\Documents\\estudio\\udemy\\agents-practices\\.venv\\Lib\\site-packages\\gradio\\utils.py\", line 876, in async_wrapper\n",
      "    response = await f(*args, **kwargs)\n",
      "               ^^^^^^^^^^^^^^^^^^^^^^^^\n",
      "  File \"d:\\cfroc\\Documents\\estudio\\udemy\\agents-practices\\.venv\\Lib\\site-packages\\gradio\\chat_interface.py\", line 551, in __wrapper\n",
      "    return await submit_fn(*args, **kwargs)\n",
      "           ^^^^^^^^^^^^^^^^^^^^^^^^^^^^^^^^\n",
      "  File \"d:\\cfroc\\Documents\\estudio\\udemy\\agents-practices\\.venv\\Lib\\site-packages\\gradio\\chat_interface.py\", line 925, in _submit_fn\n",
      "    response = await anyio.to_thread.run_sync(\n",
      "               ^^^^^^^^^^^^^^^^^^^^^^^^^^^^^^^\n",
      "  File \"d:\\cfroc\\Documents\\estudio\\udemy\\agents-practices\\.venv\\Lib\\site-packages\\anyio\\to_thread.py\", line 56, in run_sync\n",
      "    return await get_async_backend().run_sync_in_worker_thread(\n",
      "           ^^^^^^^^^^^^^^^^^^^^^^^^^^^^^^^^^^^^^^^^^^^^^^^^^^^^\n",
      "  File \"d:\\cfroc\\Documents\\estudio\\udemy\\agents-practices\\.venv\\Lib\\site-packages\\anyio\\_backends\\_asyncio.py\", line 2476, in run_sync_in_worker_thread\n",
      "    return await future\n",
      "           ^^^^^^^^^^^^\n",
      "  File \"d:\\cfroc\\Documents\\estudio\\udemy\\agents-practices\\.venv\\Lib\\site-packages\\anyio\\_backends\\_asyncio.py\", line 967, in run\n",
      "    result = context.run(func, *args)\n",
      "             ^^^^^^^^^^^^^^^^^^^^^^^^\n",
      "  File \"C:\\Users\\cfroc\\AppData\\Local\\Temp\\ipykernel_11860\\2149630981.py\", line 3, in chat\n",
      "    response = openai.chat.completions.create(model=\"gpt-4o-mini\", messages=messages)\n",
      "               ^^^^^^^^^^^^^^^^^^^^^^^^^^^^^^^^^^^^^^^^^^^^^^^^^^^^^^^^^^^^^^^^^^^^^^\n",
      "  File \"d:\\cfroc\\Documents\\estudio\\udemy\\agents-practices\\.venv\\Lib\\site-packages\\openai\\_utils\\_utils.py\", line 287, in wrapper\n",
      "    return func(*args, **kwargs)\n",
      "           ^^^^^^^^^^^^^^^^^^^^^\n",
      "  File \"d:\\cfroc\\Documents\\estudio\\udemy\\agents-practices\\.venv\\Lib\\site-packages\\openai\\resources\\chat\\completions\\completions.py\", line 1147, in create\n",
      "    return self._post(\n",
      "           ^^^^^^^^^^^\n",
      "  File \"d:\\cfroc\\Documents\\estudio\\udemy\\agents-practices\\.venv\\Lib\\site-packages\\openai\\_base_client.py\", line 1259, in post\n",
      "    return cast(ResponseT, self.request(cast_to, opts, stream=stream, stream_cls=stream_cls))\n",
      "                           ^^^^^^^^^^^^^^^^^^^^^^^^^^^^^^^^^^^^^^^^^^^^^^^^^^^^^^^^^^^^^^^^^\n",
      "  File \"d:\\cfroc\\Documents\\estudio\\udemy\\agents-practices\\.venv\\Lib\\site-packages\\openai\\_base_client.py\", line 1047, in request\n",
      "    raise self._make_status_error_from_response(err.response) from None\n",
      "openai.RateLimitError: Error code: 429 - {'error': {'message': 'You exceeded your current quota, please check your plan and billing details. For more information on this error, read the docs: https://platform.openai.com/docs/guides/error-codes/api-errors.', 'type': 'insufficient_quota', 'param': None, 'code': 'insufficient_quota'}}\n"
     ]
    }
   ],
   "source": [
    "#Ejecutar la aplicacion\n",
    "gr.ChatInterface(chat, type=\"messages\").launch()"
   ]
  }
 ],
 "metadata": {
  "kernelspec": {
   "display_name": ".venv",
   "language": "python",
   "name": "python3"
  },
  "language_info": {
   "codemirror_mode": {
    "name": "ipython",
    "version": 3
   },
   "file_extension": ".py",
   "mimetype": "text/x-python",
   "name": "python",
   "nbconvert_exporter": "python",
   "pygments_lexer": "ipython3",
   "version": "3.12.6"
  }
 },
 "nbformat": 4,
 "nbformat_minor": 5
}
